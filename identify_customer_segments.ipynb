{
 "cells": [
  {
   "cell_type": "markdown",
   "metadata": {},
   "source": [
    "# Project: Identify Customer Segments\n",
    "\n",
    "In this project, you will apply unsupervised learning techniques to identify segments of the population that form the core customer base for a mail-order sales company in Germany. These segments can then be used to direct marketing campaigns towards audiences that will have the highest expected rate of returns. The data that you will use has been provided by our partners at Bertelsmann Arvato Analytics, and represents a real-life data science task.\n",
    "\n",
    "This notebook will help you complete this task by providing a framework within which you will perform your analysis steps. In each step of the project, you will see some text describing the subtask that you will perform, followed by one or more code cells for you to complete your work. **Feel free to add additional code and markdown cells as you go along so that you can explore everything in precise chunks.** The code cells provided in the base template will outline only the major tasks, and will usually not be enough to cover all of the minor tasks that comprise it.\n",
    "\n",
    "It should be noted that while there will be precise guidelines on how you should handle certain tasks in the project, there will also be places where an exact specification is not provided. **There will be times in the project where you will need to make and justify your own decisions on how to treat the data.** These are places where there may not be only one way to handle the data. In real-life tasks, there may be many valid ways to approach an analysis task. One of the most important things you can do is clearly document your approach so that other scientists can understand the decisions you've made.\n",
    "\n",
    "At the end of most sections, there will be a Markdown cell labeled **Discussion**. In these cells, you will report your findings for the completed section, as well as document the decisions that you made in your approach to each subtask. **Your project will be evaluated not just on the code used to complete the tasks outlined, but also your communication about your observations and conclusions at each stage.**"
   ]
  },
  {
   "cell_type": "code",
   "execution_count": 1,
   "metadata": {},
   "outputs": [
    {
     "data": {
      "text/plain": [
       "'\\nImport note: The classroom currently uses sklearn version 0.19.\\nIf you need to use an imputer, it is available in sklearn.preprocessing.Imputer,\\ninstead of sklearn.impute as in newer versions of sklearn.\\n'"
      ]
     },
     "execution_count": 1,
     "metadata": {},
     "output_type": "execute_result"
    }
   ],
   "source": [
    "# import libraries here; add more as necessary\n",
    "import numpy as np\n",
    "import pandas as pd\n",
    "import matplotlib.pyplot as plt\n",
    "import seaborn as sns\n",
    "\n",
    "# magic word for producing visualizations in notebook\n",
    "%matplotlib inline\n",
    "\n",
    "'''\n",
    "Import note: The classroom currently uses sklearn version 0.19.\n",
    "If you need to use an imputer, it is available in sklearn.preprocessing.Imputer,\n",
    "instead of sklearn.impute as in newer versions of sklearn.\n",
    "'''"
   ]
  },
  {
   "cell_type": "markdown",
   "metadata": {},
   "source": [
    "### Step 0: Load the Data\n",
    "\n",
    "There are four files associated with this project (not including this one):\n",
    "\n",
    "- `Udacity_AZDIAS_Subset.csv`: Demographics data for the general population of Germany; 891211 persons (rows) x 85 features (columns).\n",
    "- `Udacity_CUSTOMERS_Subset.csv`: Demographics data for customers of a mail-order company; 191652 persons (rows) x 85 features (columns).\n",
    "- `Data_Dictionary.md`: Detailed information file about the features in the provided datasets.\n",
    "- `AZDIAS_Feature_Summary.csv`: Summary of feature attributes for demographics data; 85 features (rows) x 4 columns\n",
    "\n",
    "Each row of the demographics files represents a single person, but also includes information outside of individuals, including information about their household, building, and neighborhood. You will use this information to cluster the general population into groups with similar demographic properties. Then, you will see how the people in the customers dataset fit into those created clusters. The hope here is that certain clusters are over-represented in the customers data, as compared to the general population; those over-represented clusters will be assumed to be part of the core userbase. This information can then be used for further applications, such as targeting for a marketing campaign.\n",
    "\n",
    "To start off with, load in the demographics data for the general population into a pandas DataFrame, and do the same for the feature attributes summary. Note for all of the `.csv` data files in this project: they're semicolon (`;`) delimited, so you'll need an additional argument in your [`read_csv()`](https://pandas.pydata.org/pandas-docs/stable/generated/pandas.read_csv.html) call to read in the data properly. Also, considering the size of the main dataset, it may take some time for it to load completely.\n",
    "\n",
    "Once the dataset is loaded, it's recommended that you take a little bit of time just browsing the general structure of the dataset and feature summary file. You'll be getting deep into the innards of the cleaning in the first major step of the project, so gaining some general familiarity can help you get your bearings."
   ]
  },
  {
   "cell_type": "markdown",
   "metadata": {},
   "source": [
    "### THIS IS  A TEST OF THE MANUAL PROCESS"
   ]
  },
  {
   "cell_type": "code",
   "execution_count": 186,
   "metadata": {},
   "outputs": [],
   "source": [
    "# Load in the general demographics data.\n",
    "azdias = pd.read_csv('Udacity_AZDIAS_Subset.csv', delimiter=';')\n",
    "\n",
    "# Load in the feature summary file.\n",
    "feat_info = pd.read_csv('AZDIAS_Feature_Summary.csv', delimiter=';')"
   ]
  },
  {
   "cell_type": "code",
   "execution_count": 137,
   "metadata": {},
   "outputs": [],
   "source": [
    "feat_info_copy = feat_info.copy()\n",
    "\n",
    "#Parsing \"missing_or_unknown\" and adding characters to list\n",
    "feat_info_copy['missing_or_unknown'] = (\n",
    "    feat_info_copy['missing_or_unknown']\n",
    "    .str.strip('[]') #strip bracket\n",
    "    .str.split(',') #split by comma\n",
    "    .apply(lambda x: [int(i) if i.lstrip('-').isdigit() else i.strip().strip(\"'\") for i in x]) #convert to correct type\n",
    ")\n"
   ]
  },
  {
   "cell_type": "code",
   "execution_count": 138,
   "metadata": {},
   "outputs": [],
   "source": [
    "# Creating copy of azdias for data manipulation\n",
    "azdias_copy = azdias.copy()"
   ]
  },
  {
   "cell_type": "code",
   "execution_count": 139,
   "metadata": {},
   "outputs": [],
   "source": [
    "# Updating azdias_copy to convert attributes in the info df to NaN\n",
    "for index, row in feat_info_copy.iterrows():\n",
    "    attribute = row['attribute']\n",
    "    missing_or_unknown = row['missing_or_unknown']\n",
    "    if attribute in azdias_copy.columns:\n",
    "        azdias_copy[attribute] = azdias_copy[attribute].apply(lambda x: np.nan if x in missing_or_unknown else x)\n"
   ]
  },
  {
   "cell_type": "code",
   "execution_count": 140,
   "metadata": {},
   "outputs": [
    {
     "data": {
      "text/plain": [
       "(891221, 85)"
      ]
     },
     "execution_count": 140,
     "metadata": {},
     "output_type": "execute_result"
    }
   ],
   "source": [
    "azdias_copy.shape"
   ]
  },
  {
   "cell_type": "code",
   "execution_count": 141,
   "metadata": {},
   "outputs": [
    {
     "data": {
      "text/plain": [
       "(891221, 79)"
      ]
     },
     "execution_count": 141,
     "metadata": {},
     "output_type": "execute_result"
    }
   ],
   "source": [
    "# Remove the outlier columns from the dataset.\n",
    "azdias_copy.drop(['TITEL_KZ', 'AGER_TYP', 'KK_KUNDENTYP', 'KBA05_BAUMAX', 'GEBURTSJAHR', 'ALTER_HH'], axis=1, inplace=True)\n",
    "azdias_copy.shape"
   ]
  },
  {
   "cell_type": "code",
   "execution_count": 142,
   "metadata": {},
   "outputs": [],
   "source": [
    "# Create categorical and mixed filters\n",
    "categorical_columns_filter = feat_info_copy[feat_info_copy['type'] == 'categorical']['attribute']\n",
    "mixed_columns_filter = feat_info_copy[feat_info_copy['type'] == 'mixed']['attribute']"
   ]
  },
  {
   "cell_type": "code",
   "execution_count": 143,
   "metadata": {},
   "outputs": [
    {
     "data": {
      "text/plain": [
       "(891221, 79)"
      ]
     },
     "execution_count": 143,
     "metadata": {},
     "output_type": "execute_result"
    }
   ],
   "source": [
    "#Re-encoding OST_WEST_KZ to binary features\n",
    "azdias_copy['OST_WEST_KZ'] = azdias_copy['OST_WEST_KZ'].replace({'W': 0, 'O': 1})\n",
    "\n",
    "# Convert to \n",
    "azdias_copy.shape"
   ]
  },
  {
   "cell_type": "code",
   "execution_count": 144,
   "metadata": {
    "scrolled": true
   },
   "outputs": [
    {
     "data": {
      "text/plain": [
       "(891221, 66)"
      ]
     },
     "execution_count": 144,
     "metadata": {},
     "output_type": "execute_result"
    }
   ],
   "source": [
    "#Dropping categorical columns with more than 2 unique features\n",
    "for col in categorical_columns_filter:\n",
    "    if col in azdias_copy.columns and azdias_copy[col].nunique() > 2:\n",
    "         #Drop the columns\n",
    "        azdias_copy.drop(columns=[col], inplace=True)\n",
    "azdias_copy.shape"
   ]
  },
  {
   "cell_type": "code",
   "execution_count": 145,
   "metadata": {},
   "outputs": [],
   "source": [
    "# Mapping for decades\n",
    "decade_dict = {\n",
    "    1: 40, 2: 40, # 40s\n",
    "    3: 50, 4: 50, # 50s\n",
    "    5: 60, 6: 60, 7: 60, # 60s\n",
    "    8: 70, 9: 70, # 70s\n",
    "    10: 80, 11: 80, 12: 80, 13: 80, # 80s\n",
    "    14: 90, 15: 90 # 90s\n",
    "}\n",
    "\n",
    "# Mapping for movement: Mainstream = 0, Avantgarde = 1\n",
    "movement_dict = {\n",
    "    1: 0, 3: 0, 5: 0, 8: 0, 10: 0, 12: 0, 14: 0, # Mainstream\n",
    "    2: 1, 4: 1, 6: 1, 7: 1, 9: 1, 11: 1, 13: 1, 15: 1  # Avantgarde\n",
    "}"
   ]
  },
  {
   "cell_type": "code",
   "execution_count": 146,
   "metadata": {},
   "outputs": [
    {
     "data": {
      "text/plain": [
       "(891221, 68)"
      ]
     },
     "execution_count": 146,
     "metadata": {},
     "output_type": "execute_result"
    }
   ],
   "source": [
    "# Creating new features in azdias_copy\n",
    "azdias_copy['DECADE'] = azdias_copy['PRAEGENDE_JUGENDJAHRE'].map(decade_dict)\n",
    "azdias_copy['MOVEMENT'] = azdias_copy['PRAEGENDE_JUGENDJAHRE'].map(movement_dict)\n",
    "azdias_copy.shape"
   ]
  },
  {
   "cell_type": "code",
   "execution_count": 147,
   "metadata": {},
   "outputs": [
    {
     "data": {
      "text/plain": [
       "(891221, 70)"
      ]
     },
     "execution_count": 147,
     "metadata": {},
     "output_type": "execute_result"
    }
   ],
   "source": [
    "# Extract 'TENS' column\n",
    "azdias_copy['CAMEO_INTL_2015_TENS'] = azdias_copy['CAMEO_INTL_2015'].str[0]\n",
    "\n",
    "# Extract 'ONES' column\n",
    "azdias_copy['CAMEO_INTL_2015_ONES'] = azdias_copy['CAMEO_INTL_2015'].str[1]\n",
    "azdias_copy.shape"
   ]
  },
  {
   "cell_type": "code",
   "execution_count": 148,
   "metadata": {},
   "outputs": [
    {
     "data": {
      "text/plain": [
       "(891221, 68)"
      ]
     },
     "execution_count": 148,
     "metadata": {},
     "output_type": "execute_result"
    }
   ],
   "source": [
    "# Dropping old columns used for engineering \n",
    "azdias_copy.drop(['PRAEGENDE_JUGENDJAHRE'], axis=1, inplace=True)\n",
    "azdias_copy.drop(['CAMEO_INTL_2015'], axis=1, inplace=True)\n",
    "azdias_copy.shape"
   ]
  },
  {
   "cell_type": "code",
   "execution_count": 149,
   "metadata": {},
   "outputs": [
    {
     "data": {
      "text/plain": [
       "(891221, 64)"
      ]
     },
     "execution_count": 149,
     "metadata": {},
     "output_type": "execute_result"
    }
   ],
   "source": [
    "# get the names of columns which are mixed type and still present in azdias_copy\n",
    "valid_mixed_columns_filter = [col for col in mixed_columns_filter if col in azdias_copy.columns]\n",
    "\n",
    "# Dropping mixed\n",
    "azdias_copy.drop(valid_mixed_columns_filter, axis=1, errors='ignore', inplace=True)\n",
    "azdias_copy_test1 = azdias_copy\n",
    "azdias_copy_test1.shape#REMOVE\n"
   ]
  },
  {
   "cell_type": "markdown",
   "metadata": {},
   "source": [
    "### END TEST OF THE MANUAL PROCESS"
   ]
  },
  {
   "cell_type": "code",
   "execution_count": 187,
   "metadata": {},
   "outputs": [],
   "source": [
    "# Load in the general demographics data.\n",
    "azdias = pd.read_csv('Udacity_AZDIAS_Subset.csv', delimiter=';')\n",
    "\n",
    "# Load in the feature summary file.\n",
    "feat_info = pd.read_csv('AZDIAS_Feature_Summary.csv', delimiter=';')"
   ]
  },
  {
   "cell_type": "code",
   "execution_count": 117,
   "metadata": {},
   "outputs": [
    {
     "data": {
      "text/plain": [
       "(891221, 85)"
      ]
     },
     "execution_count": 117,
     "metadata": {},
     "output_type": "execute_result"
    }
   ],
   "source": [
    "# Check the structure of the data after it's loaded (e.g. print the number of\n",
    "# rows and columns, print the first few rows).\n",
    "azdias.shape\n"
   ]
  },
  {
   "cell_type": "code",
   "execution_count": 4,
   "metadata": {},
   "outputs": [
    {
     "data": {
      "text/html": [
       "<div>\n",
       "<style scoped>\n",
       "    .dataframe tbody tr th:only-of-type {\n",
       "        vertical-align: middle;\n",
       "    }\n",
       "\n",
       "    .dataframe tbody tr th {\n",
       "        vertical-align: top;\n",
       "    }\n",
       "\n",
       "    .dataframe thead th {\n",
       "        text-align: right;\n",
       "    }\n",
       "</style>\n",
       "<table border=\"1\" class=\"dataframe\">\n",
       "  <thead>\n",
       "    <tr style=\"text-align: right;\">\n",
       "      <th></th>\n",
       "      <th>AGER_TYP</th>\n",
       "      <th>ALTERSKATEGORIE_GROB</th>\n",
       "      <th>ANREDE_KZ</th>\n",
       "      <th>CJT_GESAMTTYP</th>\n",
       "      <th>FINANZ_MINIMALIST</th>\n",
       "      <th>FINANZ_SPARER</th>\n",
       "      <th>FINANZ_VORSORGER</th>\n",
       "      <th>FINANZ_ANLEGER</th>\n",
       "      <th>FINANZ_UNAUFFAELLIGER</th>\n",
       "      <th>FINANZ_HAUSBAUER</th>\n",
       "      <th>...</th>\n",
       "      <th>PLZ8_ANTG1</th>\n",
       "      <th>PLZ8_ANTG2</th>\n",
       "      <th>PLZ8_ANTG3</th>\n",
       "      <th>PLZ8_ANTG4</th>\n",
       "      <th>PLZ8_BAUMAX</th>\n",
       "      <th>PLZ8_HHZ</th>\n",
       "      <th>PLZ8_GBZ</th>\n",
       "      <th>ARBEIT</th>\n",
       "      <th>ORTSGR_KLS9</th>\n",
       "      <th>RELAT_AB</th>\n",
       "    </tr>\n",
       "  </thead>\n",
       "  <tbody>\n",
       "    <tr>\n",
       "      <th>0</th>\n",
       "      <td>-1</td>\n",
       "      <td>2</td>\n",
       "      <td>1</td>\n",
       "      <td>2.0</td>\n",
       "      <td>3</td>\n",
       "      <td>4</td>\n",
       "      <td>3</td>\n",
       "      <td>5</td>\n",
       "      <td>5</td>\n",
       "      <td>3</td>\n",
       "      <td>...</td>\n",
       "      <td>NaN</td>\n",
       "      <td>NaN</td>\n",
       "      <td>NaN</td>\n",
       "      <td>NaN</td>\n",
       "      <td>NaN</td>\n",
       "      <td>NaN</td>\n",
       "      <td>NaN</td>\n",
       "      <td>NaN</td>\n",
       "      <td>NaN</td>\n",
       "      <td>NaN</td>\n",
       "    </tr>\n",
       "    <tr>\n",
       "      <th>1</th>\n",
       "      <td>-1</td>\n",
       "      <td>1</td>\n",
       "      <td>2</td>\n",
       "      <td>5.0</td>\n",
       "      <td>1</td>\n",
       "      <td>5</td>\n",
       "      <td>2</td>\n",
       "      <td>5</td>\n",
       "      <td>4</td>\n",
       "      <td>5</td>\n",
       "      <td>...</td>\n",
       "      <td>2.0</td>\n",
       "      <td>3.0</td>\n",
       "      <td>2.0</td>\n",
       "      <td>1.0</td>\n",
       "      <td>1.0</td>\n",
       "      <td>5.0</td>\n",
       "      <td>4.0</td>\n",
       "      <td>3.0</td>\n",
       "      <td>5.0</td>\n",
       "      <td>4.0</td>\n",
       "    </tr>\n",
       "    <tr>\n",
       "      <th>2</th>\n",
       "      <td>-1</td>\n",
       "      <td>3</td>\n",
       "      <td>2</td>\n",
       "      <td>3.0</td>\n",
       "      <td>1</td>\n",
       "      <td>4</td>\n",
       "      <td>1</td>\n",
       "      <td>2</td>\n",
       "      <td>3</td>\n",
       "      <td>5</td>\n",
       "      <td>...</td>\n",
       "      <td>3.0</td>\n",
       "      <td>3.0</td>\n",
       "      <td>1.0</td>\n",
       "      <td>0.0</td>\n",
       "      <td>1.0</td>\n",
       "      <td>4.0</td>\n",
       "      <td>4.0</td>\n",
       "      <td>3.0</td>\n",
       "      <td>5.0</td>\n",
       "      <td>2.0</td>\n",
       "    </tr>\n",
       "    <tr>\n",
       "      <th>3</th>\n",
       "      <td>2</td>\n",
       "      <td>4</td>\n",
       "      <td>2</td>\n",
       "      <td>2.0</td>\n",
       "      <td>4</td>\n",
       "      <td>2</td>\n",
       "      <td>5</td>\n",
       "      <td>2</td>\n",
       "      <td>1</td>\n",
       "      <td>2</td>\n",
       "      <td>...</td>\n",
       "      <td>2.0</td>\n",
       "      <td>2.0</td>\n",
       "      <td>2.0</td>\n",
       "      <td>0.0</td>\n",
       "      <td>1.0</td>\n",
       "      <td>3.0</td>\n",
       "      <td>4.0</td>\n",
       "      <td>2.0</td>\n",
       "      <td>3.0</td>\n",
       "      <td>3.0</td>\n",
       "    </tr>\n",
       "    <tr>\n",
       "      <th>4</th>\n",
       "      <td>-1</td>\n",
       "      <td>3</td>\n",
       "      <td>1</td>\n",
       "      <td>5.0</td>\n",
       "      <td>4</td>\n",
       "      <td>3</td>\n",
       "      <td>4</td>\n",
       "      <td>1</td>\n",
       "      <td>3</td>\n",
       "      <td>2</td>\n",
       "      <td>...</td>\n",
       "      <td>2.0</td>\n",
       "      <td>4.0</td>\n",
       "      <td>2.0</td>\n",
       "      <td>1.0</td>\n",
       "      <td>2.0</td>\n",
       "      <td>3.0</td>\n",
       "      <td>3.0</td>\n",
       "      <td>4.0</td>\n",
       "      <td>6.0</td>\n",
       "      <td>5.0</td>\n",
       "    </tr>\n",
       "  </tbody>\n",
       "</table>\n",
       "<p>5 rows × 85 columns</p>\n",
       "</div>"
      ],
      "text/plain": [
       "   AGER_TYP  ALTERSKATEGORIE_GROB  ANREDE_KZ  CJT_GESAMTTYP  \\\n",
       "0        -1                     2          1            2.0   \n",
       "1        -1                     1          2            5.0   \n",
       "2        -1                     3          2            3.0   \n",
       "3         2                     4          2            2.0   \n",
       "4        -1                     3          1            5.0   \n",
       "\n",
       "   FINANZ_MINIMALIST  FINANZ_SPARER  FINANZ_VORSORGER  FINANZ_ANLEGER  \\\n",
       "0                  3              4                 3               5   \n",
       "1                  1              5                 2               5   \n",
       "2                  1              4                 1               2   \n",
       "3                  4              2                 5               2   \n",
       "4                  4              3                 4               1   \n",
       "\n",
       "   FINANZ_UNAUFFAELLIGER  FINANZ_HAUSBAUER    ...     PLZ8_ANTG1  PLZ8_ANTG2  \\\n",
       "0                      5                 3    ...            NaN         NaN   \n",
       "1                      4                 5    ...            2.0         3.0   \n",
       "2                      3                 5    ...            3.0         3.0   \n",
       "3                      1                 2    ...            2.0         2.0   \n",
       "4                      3                 2    ...            2.0         4.0   \n",
       "\n",
       "   PLZ8_ANTG3  PLZ8_ANTG4  PLZ8_BAUMAX  PLZ8_HHZ  PLZ8_GBZ  ARBEIT  \\\n",
       "0         NaN         NaN          NaN       NaN       NaN     NaN   \n",
       "1         2.0         1.0          1.0       5.0       4.0     3.0   \n",
       "2         1.0         0.0          1.0       4.0       4.0     3.0   \n",
       "3         2.0         0.0          1.0       3.0       4.0     2.0   \n",
       "4         2.0         1.0          2.0       3.0       3.0     4.0   \n",
       "\n",
       "   ORTSGR_KLS9  RELAT_AB  \n",
       "0          NaN       NaN  \n",
       "1          5.0       4.0  \n",
       "2          5.0       2.0  \n",
       "3          3.0       3.0  \n",
       "4          6.0       5.0  \n",
       "\n",
       "[5 rows x 85 columns]"
      ]
     },
     "execution_count": 4,
     "metadata": {},
     "output_type": "execute_result"
    }
   ],
   "source": [
    "azdias.head()"
   ]
  },
  {
   "cell_type": "code",
   "execution_count": 5,
   "metadata": {
    "scrolled": true
   },
   "outputs": [
    {
     "data": {
      "text/plain": [
       "(85, 4)"
      ]
     },
     "execution_count": 5,
     "metadata": {},
     "output_type": "execute_result"
    }
   ],
   "source": [
    "feat_info.shape"
   ]
  },
  {
   "cell_type": "code",
   "execution_count": 6,
   "metadata": {
    "scrolled": true
   },
   "outputs": [
    {
     "data": {
      "text/html": [
       "<div>\n",
       "<style scoped>\n",
       "    .dataframe tbody tr th:only-of-type {\n",
       "        vertical-align: middle;\n",
       "    }\n",
       "\n",
       "    .dataframe tbody tr th {\n",
       "        vertical-align: top;\n",
       "    }\n",
       "\n",
       "    .dataframe thead th {\n",
       "        text-align: right;\n",
       "    }\n",
       "</style>\n",
       "<table border=\"1\" class=\"dataframe\">\n",
       "  <thead>\n",
       "    <tr style=\"text-align: right;\">\n",
       "      <th></th>\n",
       "      <th>attribute</th>\n",
       "      <th>information_level</th>\n",
       "      <th>type</th>\n",
       "      <th>missing_or_unknown</th>\n",
       "    </tr>\n",
       "  </thead>\n",
       "  <tbody>\n",
       "    <tr>\n",
       "      <th>0</th>\n",
       "      <td>AGER_TYP</td>\n",
       "      <td>person</td>\n",
       "      <td>categorical</td>\n",
       "      <td>[-1,0]</td>\n",
       "    </tr>\n",
       "    <tr>\n",
       "      <th>1</th>\n",
       "      <td>ALTERSKATEGORIE_GROB</td>\n",
       "      <td>person</td>\n",
       "      <td>ordinal</td>\n",
       "      <td>[-1,0,9]</td>\n",
       "    </tr>\n",
       "    <tr>\n",
       "      <th>2</th>\n",
       "      <td>ANREDE_KZ</td>\n",
       "      <td>person</td>\n",
       "      <td>categorical</td>\n",
       "      <td>[-1,0]</td>\n",
       "    </tr>\n",
       "    <tr>\n",
       "      <th>3</th>\n",
       "      <td>CJT_GESAMTTYP</td>\n",
       "      <td>person</td>\n",
       "      <td>categorical</td>\n",
       "      <td>[0]</td>\n",
       "    </tr>\n",
       "    <tr>\n",
       "      <th>4</th>\n",
       "      <td>FINANZ_MINIMALIST</td>\n",
       "      <td>person</td>\n",
       "      <td>ordinal</td>\n",
       "      <td>[-1]</td>\n",
       "    </tr>\n",
       "    <tr>\n",
       "      <th>5</th>\n",
       "      <td>FINANZ_SPARER</td>\n",
       "      <td>person</td>\n",
       "      <td>ordinal</td>\n",
       "      <td>[-1]</td>\n",
       "    </tr>\n",
       "    <tr>\n",
       "      <th>6</th>\n",
       "      <td>FINANZ_VORSORGER</td>\n",
       "      <td>person</td>\n",
       "      <td>ordinal</td>\n",
       "      <td>[-1]</td>\n",
       "    </tr>\n",
       "    <tr>\n",
       "      <th>7</th>\n",
       "      <td>FINANZ_ANLEGER</td>\n",
       "      <td>person</td>\n",
       "      <td>ordinal</td>\n",
       "      <td>[-1]</td>\n",
       "    </tr>\n",
       "    <tr>\n",
       "      <th>8</th>\n",
       "      <td>FINANZ_UNAUFFAELLIGER</td>\n",
       "      <td>person</td>\n",
       "      <td>ordinal</td>\n",
       "      <td>[-1]</td>\n",
       "    </tr>\n",
       "    <tr>\n",
       "      <th>9</th>\n",
       "      <td>FINANZ_HAUSBAUER</td>\n",
       "      <td>person</td>\n",
       "      <td>ordinal</td>\n",
       "      <td>[-1]</td>\n",
       "    </tr>\n",
       "    <tr>\n",
       "      <th>10</th>\n",
       "      <td>FINANZTYP</td>\n",
       "      <td>person</td>\n",
       "      <td>categorical</td>\n",
       "      <td>[-1]</td>\n",
       "    </tr>\n",
       "    <tr>\n",
       "      <th>11</th>\n",
       "      <td>GEBURTSJAHR</td>\n",
       "      <td>person</td>\n",
       "      <td>numeric</td>\n",
       "      <td>[0]</td>\n",
       "    </tr>\n",
       "    <tr>\n",
       "      <th>12</th>\n",
       "      <td>GFK_URLAUBERTYP</td>\n",
       "      <td>person</td>\n",
       "      <td>categorical</td>\n",
       "      <td>[]</td>\n",
       "    </tr>\n",
       "    <tr>\n",
       "      <th>13</th>\n",
       "      <td>GREEN_AVANTGARDE</td>\n",
       "      <td>person</td>\n",
       "      <td>categorical</td>\n",
       "      <td>[]</td>\n",
       "    </tr>\n",
       "    <tr>\n",
       "      <th>14</th>\n",
       "      <td>HEALTH_TYP</td>\n",
       "      <td>person</td>\n",
       "      <td>ordinal</td>\n",
       "      <td>[-1,0]</td>\n",
       "    </tr>\n",
       "    <tr>\n",
       "      <th>15</th>\n",
       "      <td>LP_LEBENSPHASE_FEIN</td>\n",
       "      <td>person</td>\n",
       "      <td>mixed</td>\n",
       "      <td>[0]</td>\n",
       "    </tr>\n",
       "    <tr>\n",
       "      <th>16</th>\n",
       "      <td>LP_LEBENSPHASE_GROB</td>\n",
       "      <td>person</td>\n",
       "      <td>mixed</td>\n",
       "      <td>[0]</td>\n",
       "    </tr>\n",
       "    <tr>\n",
       "      <th>17</th>\n",
       "      <td>LP_FAMILIE_FEIN</td>\n",
       "      <td>person</td>\n",
       "      <td>categorical</td>\n",
       "      <td>[0]</td>\n",
       "    </tr>\n",
       "    <tr>\n",
       "      <th>18</th>\n",
       "      <td>LP_FAMILIE_GROB</td>\n",
       "      <td>person</td>\n",
       "      <td>categorical</td>\n",
       "      <td>[0]</td>\n",
       "    </tr>\n",
       "    <tr>\n",
       "      <th>19</th>\n",
       "      <td>LP_STATUS_FEIN</td>\n",
       "      <td>person</td>\n",
       "      <td>categorical</td>\n",
       "      <td>[0]</td>\n",
       "    </tr>\n",
       "  </tbody>\n",
       "</table>\n",
       "</div>"
      ],
      "text/plain": [
       "                attribute information_level         type missing_or_unknown\n",
       "0                AGER_TYP            person  categorical             [-1,0]\n",
       "1    ALTERSKATEGORIE_GROB            person      ordinal           [-1,0,9]\n",
       "2               ANREDE_KZ            person  categorical             [-1,0]\n",
       "3           CJT_GESAMTTYP            person  categorical                [0]\n",
       "4       FINANZ_MINIMALIST            person      ordinal               [-1]\n",
       "5           FINANZ_SPARER            person      ordinal               [-1]\n",
       "6        FINANZ_VORSORGER            person      ordinal               [-1]\n",
       "7          FINANZ_ANLEGER            person      ordinal               [-1]\n",
       "8   FINANZ_UNAUFFAELLIGER            person      ordinal               [-1]\n",
       "9        FINANZ_HAUSBAUER            person      ordinal               [-1]\n",
       "10              FINANZTYP            person  categorical               [-1]\n",
       "11            GEBURTSJAHR            person      numeric                [0]\n",
       "12        GFK_URLAUBERTYP            person  categorical                 []\n",
       "13       GREEN_AVANTGARDE            person  categorical                 []\n",
       "14             HEALTH_TYP            person      ordinal             [-1,0]\n",
       "15    LP_LEBENSPHASE_FEIN            person        mixed                [0]\n",
       "16    LP_LEBENSPHASE_GROB            person        mixed                [0]\n",
       "17        LP_FAMILIE_FEIN            person  categorical                [0]\n",
       "18        LP_FAMILIE_GROB            person  categorical                [0]\n",
       "19         LP_STATUS_FEIN            person  categorical                [0]"
      ]
     },
     "execution_count": 6,
     "metadata": {},
     "output_type": "execute_result"
    }
   ],
   "source": [
    "feat_info.head(20)"
   ]
  },
  {
   "cell_type": "code",
   "execution_count": 7,
   "metadata": {},
   "outputs": [
    {
     "name": "stdout",
     "output_type": "stream",
     "text": [
      "<class 'pandas.core.frame.DataFrame'>\n",
      "RangeIndex: 85 entries, 0 to 84\n",
      "Data columns (total 4 columns):\n",
      "attribute             85 non-null object\n",
      "information_level     85 non-null object\n",
      "type                  85 non-null object\n",
      "missing_or_unknown    85 non-null object\n",
      "dtypes: object(4)\n",
      "memory usage: 2.7+ KB\n"
     ]
    }
   ],
   "source": [
    "feat_info.info()"
   ]
  },
  {
   "cell_type": "markdown",
   "metadata": {},
   "source": [
    "> **Tip**: Add additional cells to keep everything in reasonably-sized chunks! Keyboard shortcut `esc --> a` (press escape to enter command mode, then press the 'A' key) adds a new cell before the active cell, and `esc --> b` adds a new cell after the active cell. If you need to convert an active cell to a markdown cell, use `esc --> m` and to convert to a code cell, use `esc --> y`. \n",
    "\n",
    "## Step 1: Preprocessing\n",
    "\n",
    "### Step 1.1: Assess Missing Data\n",
    "\n",
    "The feature summary file contains a summary of properties for each demographics data column. You will use this file to help you make cleaning decisions during this stage of the project. First of all, you should assess the demographics data in terms of missing data. Pay attention to the following points as you perform your analysis, and take notes on what you observe. Make sure that you fill in the **Discussion** cell with your findings and decisions at the end of each step that has one!\n",
    "\n",
    "#### Step 1.1.1: Convert Missing Value Codes to NaNs\n",
    "The fourth column of the feature attributes summary (loaded in above as `feat_info`) documents the codes from the data dictionary that indicate missing or unknown data. While the file encodes this as a list (e.g. `[-1,0]`), this will get read in as a string object. You'll need to do a little bit of parsing to make use of it to identify and clean the data. Convert data that matches a 'missing' or 'unknown' value code into a numpy NaN value. You might want to see how much data takes on a 'missing' or 'unknown' code, and how much data is naturally missing, as a point of interest.\n",
    "\n",
    "**As one more reminder, you are encouraged to add additional cells to break up your analysis into manageable chunks.**"
   ]
  },
  {
   "cell_type": "code",
   "execution_count": 188,
   "metadata": {},
   "outputs": [],
   "source": [
    "# Copy feat_info for later data manipulation\n",
    "feat_info_copy = feat_info.copy()"
   ]
  },
  {
   "cell_type": "code",
   "execution_count": 156,
   "metadata": {
    "scrolled": false
   },
   "outputs": [
    {
     "data": {
      "text/plain": [
       "[-1]        26\n",
       "[-1,9]      17\n",
       "[-1,0]      16\n",
       "[0]         12\n",
       "[]          10\n",
       "[-1,0,9]     1\n",
       "[XX]         1\n",
       "[-1,XX]      1\n",
       "[-1,X]       1\n",
       "Name: missing_or_unknown, dtype: int64"
      ]
     },
     "execution_count": 156,
     "metadata": {},
     "output_type": "execute_result"
    }
   ],
   "source": [
    "# Finding all missing value\n",
    "feat_info_copy[\"missing_or_unknown\"].value_counts()"
   ]
  },
  {
   "cell_type": "code",
   "execution_count": 189,
   "metadata": {},
   "outputs": [],
   "source": [
    "#Parsing \"missing_or_unknown\" and adding characters to list\n",
    "feat_info_copy['missing_or_unknown'] = (\n",
    "    feat_info_copy['missing_or_unknown']\n",
    "    .str.strip('[]') #strip bracket\n",
    "    .str.split(',') #split by comma\n",
    "    .apply(lambda x: [int(i) if i.lstrip('-').isdigit() else i.strip().strip(\"'\") for i in x]) #convert to correct type\n",
    ")\n"
   ]
  },
  {
   "cell_type": "code",
   "execution_count": 121,
   "metadata": {},
   "outputs": [
    {
     "name": "stdout",
     "output_type": "stream",
     "text": [
      "<class 'list'>\n"
     ]
    }
   ],
   "source": [
    "# Checking that \"missing_or_unknown\" now contains lists\n",
    "print(type(feat_info_copy.loc[0, 'missing_or_unknown']))\n"
   ]
  },
  {
   "cell_type": "markdown",
   "metadata": {},
   "source": [
    "#### Step 1.1.2: Assess Missing Data in Each Column\n",
    "\n",
    "How much missing data is present in each column? There are a few columns that are outliers in terms of the proportion of values that are missing. You will want to use matplotlib's [`hist()`](https://matplotlib.org/api/_as_gen/matplotlib.pyplot.hist.html) function to visualize the distribution of missing value counts to find these columns. Identify and document these columns. While some of these columns might have justifications for keeping or re-encoding the data, for this project you should just remove them from the dataframe. (Feel free to make remarks about these outlier columns in the discussion, however!)\n",
    "\n",
    "For the remaining features, are there any patterns in which columns have, or share, missing data?"
   ]
  },
  {
   "cell_type": "code",
   "execution_count": 228,
   "metadata": {},
   "outputs": [],
   "source": [
    "# Identify missing or unknown data values and save to dataframe\n",
    "azdias_missing_data_count = azdias.isna().sum()\n",
    "feat_info_missing_data_count = feat_info.isna().sum()"
   ]
  },
  {
   "cell_type": "code",
   "execution_count": 229,
   "metadata": {
    "scrolled": true
   },
   "outputs": [
    {
     "data": {
      "text/plain": [
       "4896838"
      ]
     },
     "execution_count": 229,
     "metadata": {},
     "output_type": "execute_result"
    }
   ],
   "source": [
    "# Total natural NaN\n",
    "azdias.isna().sum().sum()"
   ]
  },
  {
   "cell_type": "code",
   "execution_count": 230,
   "metadata": {
    "scrolled": true
   },
   "outputs": [
    {
     "data": {
      "text/plain": [
       "AGER_TYP                 0\n",
       "SEMIO_SOZ                0\n",
       "SEMIO_FAM                0\n",
       "SEMIO_REL                0\n",
       "SEMIO_MAT                0\n",
       "SEMIO_VERT               0\n",
       "SEMIO_LUST               0\n",
       "SEMIO_ERL                0\n",
       "PRAEGENDE_JUGENDJAHRE    0\n",
       "SEMIO_KULT               0\n",
       "SEMIO_KRIT               0\n",
       "SEMIO_DOM                0\n",
       "SEMIO_KAEM               0\n",
       "SEMIO_PFLICHT            0\n",
       "SEMIO_TRADV              0\n",
       "SHOPPER_TYP              0\n",
       "VERS_TYP                 0\n",
       "SEMIO_RAT                0\n",
       "NATIONALITAET_KZ         0\n",
       "ZABEOTYP                 0\n",
       "dtype: int64"
      ]
     },
     "execution_count": 230,
     "metadata": {},
     "output_type": "execute_result"
    }
   ],
   "source": [
    "azdias_missing_data_sort = azdias_missing_data_count.sort_values()\n",
    "azdias_missing_data_sort.head(20)"
   ]
  },
  {
   "cell_type": "code",
   "execution_count": 15,
   "metadata": {
    "scrolled": false
   },
   "outputs": [
    {
     "data": {
      "image/png": "[encoded data removed]",
      "text/plain": [
       "<matplotlib.figure.Figure at 0x7fa614cca518>"
      ]
     },
     "metadata": {
      "needs_background": "light"
     },
     "output_type": "display_data"
    }
   ],
   "source": [
    "# Perform an assessment of how much missing data there is in each column of the\n",
    "# dataset.\n",
    "# Create histogram plot\n",
    "\n",
    "plt.figure(figsize =(5,5))\n",
    "azdias_missing_data_sort.plot(kind='hist', edgecolor='black', bins=50)\n",
    "plt.xticks(rotation='vertical')\n",
    "plt.xlabel('Columns')\n",
    "plt.ylabel('Missing Value Count (Natural)')\n",
    "plt.title('Missing Value Counts by Column')\n",
    "plt.tight_layout()\n",
    "plt.show();\n"
   ]
  },
  {
   "cell_type": "code",
   "execution_count": 231,
   "metadata": {},
   "outputs": [
    {
     "data": {
      "text/plain": [
       "ONLINE_AFFINITAET       4854\n",
       "CJT_GESAMTTYP           4854\n",
       "LP_STATUS_GROB          4854\n",
       "LP_LEBENSPHASE_FEIN     4854\n",
       "GFK_URLAUBERTYP         4854\n",
       "LP_FAMILIE_GROB         4854\n",
       "LP_FAMILIE_FEIN         4854\n",
       "LP_STATUS_FEIN          4854\n",
       "RETOURTYP_BK_S          4854\n",
       "LP_LEBENSPHASE_GROB     4854\n",
       "HH_EINKOMMEN_SCORE     18348\n",
       "TITEL_KZ               73499\n",
       "ANZ_PERSONEN           73499\n",
       "ANZ_TITEL              73499\n",
       "WOHNDAUER_2008         73499\n",
       "SOHO_KZ                73499\n",
       "ALTER_HH               73499\n",
       "KONSUMNAEHE            73969\n",
       "WOHNLAGE               93148\n",
       "OST_WEST_KZ            93148\n",
       "dtype: int64"
      ]
     },
     "execution_count": 231,
     "metadata": {},
     "output_type": "execute_result"
    }
   ],
   "source": [
    "# Removing 0 counts for easier viewing\n",
    "azdias_missing_data_sort0 = azdias_missing_data_sort[azdias_missing_data_sort > 0]\n",
    "azdias_missing_data_sort0.head(20)"
   ]
  },
  {
   "cell_type": "code",
   "execution_count": 17,
   "metadata": {
    "scrolled": true
   },
   "outputs": [
    {
     "data": {
      "image/png": "[encoded data removed]",
      "text/plain": [
       "<matplotlib.figure.Figure at 0x7fa614cc3710>"
      ]
     },
     "metadata": {
      "needs_background": "light"
     },
     "output_type": "display_data"
    }
   ],
   "source": [
    "# Investigate patterns in the amount of missing data in each column.\n",
    "plt.figure(figsize =(25,10))\n",
    "azdias_missing_data_sort0.plot(kind='bar', edgecolor='black')\n",
    "plt.xticks(rotation='vertical')\n",
    "plt.xlabel('Columns')\n",
    "plt.ylabel('Missing Value Count')\n",
    "plt.title('Missing Value Counts by Column (Natural)')\n",
    "plt.tight_layout()\n",
    "plt.show();"
   ]
  },
  {
   "cell_type": "markdown",
   "metadata": {},
   "source": [
    "# Data Cleansing"
   ]
  },
  {
   "cell_type": "code",
   "execution_count": 190,
   "metadata": {
    "scrolled": false
   },
   "outputs": [],
   "source": [
    "# Creating copy of azdias for data manipulation\n",
    "azdias_copy = azdias.copy()\n"
   ]
  },
  {
   "cell_type": "code",
   "execution_count": 191,
   "metadata": {},
   "outputs": [],
   "source": [
    "# Updating azdias_copy to convert attributes in the info df to NaN\n",
    "for index, row in feat_info_copy.iterrows():\n",
    "    attribute = row['attribute']\n",
    "    missing_or_unknown = row['missing_or_unknown']\n",
    "    if attribute in azdias_copy.columns:\n",
    "        azdias_copy[attribute] = azdias_copy[attribute].apply(lambda x: np.nan if x in missing_or_unknown else x)\n"
   ]
  },
  {
   "cell_type": "code",
   "execution_count": 164,
   "metadata": {},
   "outputs": [
    {
     "data": {
      "text/plain": [
       "4896838"
      ]
     },
     "execution_count": 164,
     "metadata": {},
     "output_type": "execute_result"
    }
   ],
   "source": [
    "# Total original NaN\n",
    "azdias.isna().sum().sum()"
   ]
  },
  {
   "cell_type": "code",
   "execution_count": 21,
   "metadata": {},
   "outputs": [
    {
     "data": {
      "text/plain": [
       "8373929"
      ]
     },
     "execution_count": 21,
     "metadata": {},
     "output_type": "execute_result"
    }
   ],
   "source": [
    "# Total processed NaN\n",
    "azdias_copy.isna().sum().sum()"
   ]
  },
  {
   "cell_type": "code",
   "execution_count": 192,
   "metadata": {},
   "outputs": [],
   "source": [
    "azdias_missing_copy = azdias_copy.isna().sum()"
   ]
  },
  {
   "cell_type": "code",
   "execution_count": 23,
   "metadata": {
    "scrolled": false
   },
   "outputs": [
    {
     "data": {
      "image/png": "[encoded data removed]",
      "text/plain": [
       "<matplotlib.figure.Figure at 0x7fa614cc3f98>"
      ]
     },
     "metadata": {
      "needs_background": "light"
     },
     "output_type": "display_data"
    }
   ],
   "source": [
    "# Perform an assessment of how much missing data there is in each column of the\n",
    "# dataset.\n",
    "# Create histogram plot\n",
    "\n",
    "plt.figure(figsize =(5,5))\n",
    "azdias_missing_copy.plot(kind='hist', edgecolor='black', bins=50)\n",
    "plt.xticks(rotation='vertical')\n",
    "plt.xlabel('Columns')\n",
    "plt.ylabel('Missing Value Count (Natural)')\n",
    "plt.title('Missing Value Counts by Column')\n",
    "plt.tight_layout()\n",
    "plt.show();\n"
   ]
  },
  {
   "cell_type": "code",
   "execution_count": 193,
   "metadata": {},
   "outputs": [],
   "source": [
    "# Removing 0 counts for easier viewing\n",
    "azdias_missing_copy0 = azdias_missing_copy[azdias_missing_copy > 0]\n",
    "\n",
    "#Sorting by missing value count\n",
    "azdias_missing_copy0 = azdias_missing_copy0.sort_values()"
   ]
  },
  {
   "cell_type": "code",
   "execution_count": 25,
   "metadata": {
    "scrolled": false
   },
   "outputs": [
    {
     "data": {
      "image/png": "[encoded data removed]",
      "text/plain": [
       "<matplotlib.figure.Figure at 0x7fa61414ae10>"
      ]
     },
     "metadata": {
      "needs_background": "light"
     },
     "output_type": "display_data"
    }
   ],
   "source": [
    "# Investigate patterns in the amount of missing data in each column.\n",
    "plt.figure(figsize =(25,10))\n",
    "azdias_missing_copy0.plot(kind='bar', edgecolor='black')\n",
    "plt.xticks(rotation='vertical')\n",
    "plt.xlabel('Columns')\n",
    "plt.ylabel('Missing Value Count')\n",
    "plt.title('Missing Value Counts by Column (Natural)')\n",
    "plt.tight_layout()\n",
    "plt.show();"
   ]
  },
  {
   "cell_type": "code",
   "execution_count": 167,
   "metadata": {},
   "outputs": [
    {
     "name": "stdout",
     "output_type": "stream",
     "text": [
      "KBA05_ANTG4       133324\n",
      "W_KEIT_KIND_HH    147988\n",
      "KKK               158064\n",
      "REGIOTYP          158064\n",
      "ALTER_HH          310267\n",
      "GEBURTSJAHR       392318\n",
      "KBA05_BAUMAX      476524\n",
      "KK_KUNDENTYP      584612\n",
      "AGER_TYP          685843\n",
      "TITEL_KZ          889061\n",
      "dtype: int64\n"
     ]
    }
   ],
   "source": [
    "# Investigate patterns in the amount of missing data in each column with raw numbers.\n",
    "print(azdias_missing_copy0.tail(10))"
   ]
  },
  {
   "cell_type": "code",
   "execution_count": 194,
   "metadata": {},
   "outputs": [
    {
     "name": "stdout",
     "output_type": "stream",
     "text": [
      "(891221, 79)\n"
     ]
    }
   ],
   "source": [
    "# Remove the outlier columns from the dataset. (You'll perform other data\n",
    "# engineering tasks such as re-encoding and imputation later.)\n",
    "azdias_copy.drop(['TITEL_KZ', 'AGER_TYP', 'KK_KUNDENTYP', 'KBA05_BAUMAX', 'GEBURTSJAHR', 'ALTER_HH'], axis=1, inplace=True)\n",
    "\n",
    "print(azdias_copy.shape)"
   ]
  },
  {
   "cell_type": "markdown",
   "metadata": {},
   "source": [
    "#### Discussion 1.1.2: Assess Missing Data in Each Column\n",
    "\n",
    "Before utilizing the feat_info file to update missing or unknown we had 4,896,838 cells with missing data. There was only one outlier, KK_KUNDENTYP. After the update, we found 8,373,929 cells with missing data and six outlier columns that contained the majority of our missing data. We confirmed that the majority of the data was contained in columns that had fewer than 16k missing cells via a histogram and then with a bar chart. We then removed the six outliers from the dataset."
   ]
  },
  {
   "cell_type": "markdown",
   "metadata": {},
   "source": [
    "#### Step 1.1.3: Assess Missing Data in Each Row\n",
    "\n",
    "Now, you'll perform a similar assessment for the rows of the dataset. How much data is missing in each row? As with the columns, you should see some groups of points that have a very different numbers of missing values. Divide the data into two subsets: one for data points that are above some threshold for missing values, and a second subset for points below that threshold.\n",
    "\n",
    "In order to know what to do with the outlier rows, we should see if the distribution of data values on columns that are not missing data (or are missing very little data) are similar or different between the two groups. Select at least five of these columns and compare the distribution of values.\n",
    "- You can use seaborn's [`countplot()`](https://seaborn.pydata.org/generated/seaborn.countplot.html) function to create a bar chart of code frequencies and matplotlib's [`subplot()`](https://matplotlib.org/api/_as_gen/matplotlib.pyplot.subplot.html) function to put bar charts for the two subplots side by side.\n",
    "- To reduce repeated code, you might want to write a function that can perform this comparison, taking as one of its arguments a column to be compared.\n",
    "\n",
    "Depending on what you observe in your comparison, this will have implications on how you approach your conclusions later in the analysis. If the distributions of non-missing features look similar between the data with many missing values and the data with few or no missing values, then we could argue that simply dropping those points from the analysis won't present a major issue. On the other hand, if the data with many missing values looks very different from the data with few or no missing values, then we should make a note on those data as special. We'll revisit these data later on. **Either way, you should continue your analysis for now using just the subset of the data with few or no missing values.**"
   ]
  },
  {
   "cell_type": "code",
   "execution_count": 214,
   "metadata": {},
   "outputs": [
    {
     "data": {
      "text/plain": [
       "4.6616832413060285"
      ]
     },
     "execution_count": 214,
     "metadata": {},
     "output_type": "execute_result"
    }
   ],
   "source": [
    "# How much data is missing in each row of the dataset?\n",
    "average_nan_per_row = azdias_copy.isna().sum(axis=1).mean()\n",
    "average_nan_per_row"
   ]
  },
  {
   "cell_type": "code",
   "execution_count": 217,
   "metadata": {
    "scrolled": true
   },
   "outputs": [
    {
     "data": {
      "text/plain": [
       "0         38\n",
       "1          0\n",
       "2          0\n",
       "3          3\n",
       "4          0\n",
       "5          0\n",
       "6          0\n",
       "7          0\n",
       "8          0\n",
       "9          0\n",
       "10         0\n",
       "11        38\n",
       "12         6\n",
       "13         8\n",
       "14        38\n",
       "15         7\n",
       "16         2\n",
       "17        38\n",
       "18         3\n",
       "19         0\n",
       "20         9\n",
       "21         0\n",
       "22         0\n",
       "23         7\n",
       "24        38\n",
       "25         1\n",
       "26        17\n",
       "27         0\n",
       "28         0\n",
       "29         2\n",
       "          ..\n",
       "891191     0\n",
       "891192     0\n",
       "891193     0\n",
       "891194     0\n",
       "891195     0\n",
       "891196     0\n",
       "891197     0\n",
       "891198     0\n",
       "891199     0\n",
       "891200     0\n",
       "891201     0\n",
       "891202     0\n",
       "891203    11\n",
       "891204     0\n",
       "891205     0\n",
       "891206     0\n",
       "891207     0\n",
       "891208     3\n",
       "891209     0\n",
       "891210     0\n",
       "891211     0\n",
       "891212     0\n",
       "891213     0\n",
       "891214     0\n",
       "891215     0\n",
       "891216     3\n",
       "891217     2\n",
       "891218     1\n",
       "891219     0\n",
       "891220     0\n",
       "Length: 891221, dtype: int64"
      ]
     },
     "execution_count": 217,
     "metadata": {},
     "output_type": "execute_result"
    }
   ],
   "source": [
    "# How much data is missing in each row of the dataset?\n",
    "sum_nan_per_row = azdias_copy.isna().sum(axis=1)\n",
    "sum_nan_per_row"
   ]
  },
  {
   "cell_type": "code",
   "execution_count": 221,
   "metadata": {},
   "outputs": [
    {
     "data": {
      "image/png": "[encoded data removed]",
      "text/plain": [
       "<matplotlib.figure.Figure at 0x7f43229e8fd0>"
      ]
     },
     "metadata": {
      "needs_background": "light"
     },
     "output_type": "display_data"
    }
   ],
   "source": [
    "# Perform an assessment of how much missing data there is in each row of the\n",
    "# dataset.\n",
    "# Create histogram plot\n",
    "\n",
    "plt.figure(figsize =(5,5))\n",
    "sum_nan_per_row.plot(kind='hist', edgecolor='black', bins=15)\n",
    "plt.xticks(rotation='vertical')\n",
    "plt.xlabel('Columns')\n",
    "plt.ylabel('Missing Value Count (Natural)')\n",
    "plt.title('Missing Value Counts by Column')\n",
    "plt.tight_layout()\n",
    "plt.show();\n"
   ]
  },
  {
   "cell_type": "code",
   "execution_count": 222,
   "metadata": {},
   "outputs": [],
   "source": [
    "# Write code to divide the data into two subsets based on the number of missing\n",
    "# values in each row.\n",
    "azdias_row_missing_low = azdias_copy[sum_nan_per_row <= 10]\n",
    "azdias_row_missing_high = azdias_copy[sum_nan_per_row > 10]\n"
   ]
  },
  {
   "cell_type": "code",
   "execution_count": 223,
   "metadata": {
    "scrolled": true
   },
   "outputs": [
    {
     "data": {
      "text/html": [
       "<div>\n",
       "<style scoped>\n",
       "    .dataframe tbody tr th:only-of-type {\n",
       "        vertical-align: middle;\n",
       "    }\n",
       "\n",
       "    .dataframe tbody tr th {\n",
       "        vertical-align: top;\n",
       "    }\n",
       "\n",
       "    .dataframe thead th {\n",
       "        text-align: right;\n",
       "    }\n",
       "</style>\n",
       "<table border=\"1\" class=\"dataframe\">\n",
       "  <thead>\n",
       "    <tr style=\"text-align: right;\">\n",
       "      <th></th>\n",
       "      <th>ALTERSKATEGORIE_GROB</th>\n",
       "      <th>ANREDE_KZ</th>\n",
       "      <th>FINANZ_MINIMALIST</th>\n",
       "      <th>FINANZ_SPARER</th>\n",
       "      <th>FINANZ_VORSORGER</th>\n",
       "      <th>FINANZ_ANLEGER</th>\n",
       "      <th>FINANZ_UNAUFFAELLIGER</th>\n",
       "      <th>FINANZ_HAUSBAUER</th>\n",
       "      <th>GREEN_AVANTGARDE</th>\n",
       "      <th>HEALTH_TYP</th>\n",
       "      <th>...</th>\n",
       "      <th>PLZ8_ANTG4</th>\n",
       "      <th>PLZ8_HHZ</th>\n",
       "      <th>PLZ8_GBZ</th>\n",
       "      <th>ARBEIT</th>\n",
       "      <th>ORTSGR_KLS9</th>\n",
       "      <th>RELAT_AB</th>\n",
       "      <th>DECADE</th>\n",
       "      <th>MOVEMENT</th>\n",
       "      <th>CAMEO_INTL_2015_TENS</th>\n",
       "      <th>CAMEO_INTL_2015_ONES</th>\n",
       "    </tr>\n",
       "  </thead>\n",
       "  <tbody>\n",
       "    <tr>\n",
       "      <th>1</th>\n",
       "      <td>1.0</td>\n",
       "      <td>2</td>\n",
       "      <td>1</td>\n",
       "      <td>5</td>\n",
       "      <td>2</td>\n",
       "      <td>5</td>\n",
       "      <td>4</td>\n",
       "      <td>5</td>\n",
       "      <td>0</td>\n",
       "      <td>3.0</td>\n",
       "      <td>...</td>\n",
       "      <td>1.0</td>\n",
       "      <td>5.0</td>\n",
       "      <td>4.0</td>\n",
       "      <td>3.0</td>\n",
       "      <td>5.0</td>\n",
       "      <td>4.0</td>\n",
       "      <td>90.0</td>\n",
       "      <td>0.0</td>\n",
       "      <td>5</td>\n",
       "      <td>1</td>\n",
       "    </tr>\n",
       "    <tr>\n",
       "      <th>2</th>\n",
       "      <td>3.0</td>\n",
       "      <td>2</td>\n",
       "      <td>1</td>\n",
       "      <td>4</td>\n",
       "      <td>1</td>\n",
       "      <td>2</td>\n",
       "      <td>3</td>\n",
       "      <td>5</td>\n",
       "      <td>1</td>\n",
       "      <td>3.0</td>\n",
       "      <td>...</td>\n",
       "      <td>0.0</td>\n",
       "      <td>4.0</td>\n",
       "      <td>4.0</td>\n",
       "      <td>3.0</td>\n",
       "      <td>5.0</td>\n",
       "      <td>2.0</td>\n",
       "      <td>90.0</td>\n",
       "      <td>1.0</td>\n",
       "      <td>2</td>\n",
       "      <td>4</td>\n",
       "    </tr>\n",
       "    <tr>\n",
       "      <th>3</th>\n",
       "      <td>4.0</td>\n",
       "      <td>2</td>\n",
       "      <td>4</td>\n",
       "      <td>2</td>\n",
       "      <td>5</td>\n",
       "      <td>2</td>\n",
       "      <td>1</td>\n",
       "      <td>2</td>\n",
       "      <td>0</td>\n",
       "      <td>2.0</td>\n",
       "      <td>...</td>\n",
       "      <td>0.0</td>\n",
       "      <td>3.0</td>\n",
       "      <td>4.0</td>\n",
       "      <td>2.0</td>\n",
       "      <td>3.0</td>\n",
       "      <td>3.0</td>\n",
       "      <td>70.0</td>\n",
       "      <td>0.0</td>\n",
       "      <td>1</td>\n",
       "      <td>2</td>\n",
       "    </tr>\n",
       "    <tr>\n",
       "      <th>4</th>\n",
       "      <td>3.0</td>\n",
       "      <td>1</td>\n",
       "      <td>4</td>\n",
       "      <td>3</td>\n",
       "      <td>4</td>\n",
       "      <td>1</td>\n",
       "      <td>3</td>\n",
       "      <td>2</td>\n",
       "      <td>0</td>\n",
       "      <td>3.0</td>\n",
       "      <td>...</td>\n",
       "      <td>1.0</td>\n",
       "      <td>3.0</td>\n",
       "      <td>3.0</td>\n",
       "      <td>4.0</td>\n",
       "      <td>6.0</td>\n",
       "      <td>5.0</td>\n",
       "      <td>70.0</td>\n",
       "      <td>0.0</td>\n",
       "      <td>4</td>\n",
       "      <td>3</td>\n",
       "    </tr>\n",
       "    <tr>\n",
       "      <th>5</th>\n",
       "      <td>1.0</td>\n",
       "      <td>2</td>\n",
       "      <td>3</td>\n",
       "      <td>1</td>\n",
       "      <td>5</td>\n",
       "      <td>2</td>\n",
       "      <td>2</td>\n",
       "      <td>5</td>\n",
       "      <td>0</td>\n",
       "      <td>3.0</td>\n",
       "      <td>...</td>\n",
       "      <td>1.0</td>\n",
       "      <td>5.0</td>\n",
       "      <td>5.0</td>\n",
       "      <td>2.0</td>\n",
       "      <td>3.0</td>\n",
       "      <td>3.0</td>\n",
       "      <td>50.0</td>\n",
       "      <td>0.0</td>\n",
       "      <td>5</td>\n",
       "      <td>4</td>\n",
       "    </tr>\n",
       "  </tbody>\n",
       "</table>\n",
       "<p>5 rows × 64 columns</p>\n",
       "</div>"
      ],
      "text/plain": [
       "   ALTERSKATEGORIE_GROB  ANREDE_KZ  FINANZ_MINIMALIST  FINANZ_SPARER  \\\n",
       "1                   1.0          2                  1              5   \n",
       "2                   3.0          2                  1              4   \n",
       "3                   4.0          2                  4              2   \n",
       "4                   3.0          1                  4              3   \n",
       "5                   1.0          2                  3              1   \n",
       "\n",
       "   FINANZ_VORSORGER  FINANZ_ANLEGER  FINANZ_UNAUFFAELLIGER  FINANZ_HAUSBAUER  \\\n",
       "1                 2               5                      4                 5   \n",
       "2                 1               2                      3                 5   \n",
       "3                 5               2                      1                 2   \n",
       "4                 4               1                      3                 2   \n",
       "5                 5               2                      2                 5   \n",
       "\n",
       "   GREEN_AVANTGARDE  HEALTH_TYP          ...           PLZ8_ANTG4  PLZ8_HHZ  \\\n",
       "1                 0         3.0          ...                  1.0       5.0   \n",
       "2                 1         3.0          ...                  0.0       4.0   \n",
       "3                 0         2.0          ...                  0.0       3.0   \n",
       "4                 0         3.0          ...                  1.0       3.0   \n",
       "5                 0         3.0          ...                  1.0       5.0   \n",
       "\n",
       "   PLZ8_GBZ  ARBEIT  ORTSGR_KLS9  RELAT_AB  DECADE  MOVEMENT  \\\n",
       "1       4.0     3.0          5.0       4.0    90.0       0.0   \n",
       "2       4.0     3.0          5.0       2.0    90.0       1.0   \n",
       "3       4.0     2.0          3.0       3.0    70.0       0.0   \n",
       "4       3.0     4.0          6.0       5.0    70.0       0.0   \n",
       "5       5.0     2.0          3.0       3.0    50.0       0.0   \n",
       "\n",
       "   CAMEO_INTL_2015_TENS  CAMEO_INTL_2015_ONES  \n",
       "1                     5                     1  \n",
       "2                     2                     4  \n",
       "3                     1                     2  \n",
       "4                     4                     3  \n",
       "5                     5                     4  \n",
       "\n",
       "[5 rows x 64 columns]"
      ]
     },
     "execution_count": 223,
     "metadata": {},
     "output_type": "execute_result"
    }
   ],
   "source": [
    "azdias_row_missing_low.head()\n"
   ]
  },
  {
   "cell_type": "code",
   "execution_count": 224,
   "metadata": {},
   "outputs": [
    {
     "data": {
      "text/html": [
       "<div>\n",
       "<style scoped>\n",
       "    .dataframe tbody tr th:only-of-type {\n",
       "        vertical-align: middle;\n",
       "    }\n",
       "\n",
       "    .dataframe tbody tr th {\n",
       "        vertical-align: top;\n",
       "    }\n",
       "\n",
       "    .dataframe thead th {\n",
       "        text-align: right;\n",
       "    }\n",
       "</style>\n",
       "<table border=\"1\" class=\"dataframe\">\n",
       "  <thead>\n",
       "    <tr style=\"text-align: right;\">\n",
       "      <th></th>\n",
       "      <th>ALTERSKATEGORIE_GROB</th>\n",
       "      <th>ANREDE_KZ</th>\n",
       "      <th>FINANZ_MINIMALIST</th>\n",
       "      <th>FINANZ_SPARER</th>\n",
       "      <th>FINANZ_VORSORGER</th>\n",
       "      <th>FINANZ_ANLEGER</th>\n",
       "      <th>FINANZ_UNAUFFAELLIGER</th>\n",
       "      <th>FINANZ_HAUSBAUER</th>\n",
       "      <th>GREEN_AVANTGARDE</th>\n",
       "      <th>HEALTH_TYP</th>\n",
       "      <th>...</th>\n",
       "      <th>PLZ8_ANTG4</th>\n",
       "      <th>PLZ8_HHZ</th>\n",
       "      <th>PLZ8_GBZ</th>\n",
       "      <th>ARBEIT</th>\n",
       "      <th>ORTSGR_KLS9</th>\n",
       "      <th>RELAT_AB</th>\n",
       "      <th>DECADE</th>\n",
       "      <th>MOVEMENT</th>\n",
       "      <th>CAMEO_INTL_2015_TENS</th>\n",
       "      <th>CAMEO_INTL_2015_ONES</th>\n",
       "    </tr>\n",
       "  </thead>\n",
       "  <tbody>\n",
       "    <tr>\n",
       "      <th>0</th>\n",
       "      <td>2.0</td>\n",
       "      <td>1</td>\n",
       "      <td>3</td>\n",
       "      <td>4</td>\n",
       "      <td>3</td>\n",
       "      <td>5</td>\n",
       "      <td>5</td>\n",
       "      <td>3</td>\n",
       "      <td>0</td>\n",
       "      <td>NaN</td>\n",
       "      <td>...</td>\n",
       "      <td>NaN</td>\n",
       "      <td>NaN</td>\n",
       "      <td>NaN</td>\n",
       "      <td>NaN</td>\n",
       "      <td>NaN</td>\n",
       "      <td>NaN</td>\n",
       "      <td>NaN</td>\n",
       "      <td>NaN</td>\n",
       "      <td>NaN</td>\n",
       "      <td>NaN</td>\n",
       "    </tr>\n",
       "    <tr>\n",
       "      <th>11</th>\n",
       "      <td>2.0</td>\n",
       "      <td>1</td>\n",
       "      <td>3</td>\n",
       "      <td>4</td>\n",
       "      <td>3</td>\n",
       "      <td>5</td>\n",
       "      <td>5</td>\n",
       "      <td>3</td>\n",
       "      <td>0</td>\n",
       "      <td>NaN</td>\n",
       "      <td>...</td>\n",
       "      <td>NaN</td>\n",
       "      <td>NaN</td>\n",
       "      <td>NaN</td>\n",
       "      <td>NaN</td>\n",
       "      <td>NaN</td>\n",
       "      <td>NaN</td>\n",
       "      <td>NaN</td>\n",
       "      <td>NaN</td>\n",
       "      <td>NaN</td>\n",
       "      <td>NaN</td>\n",
       "    </tr>\n",
       "    <tr>\n",
       "      <th>14</th>\n",
       "      <td>3.0</td>\n",
       "      <td>1</td>\n",
       "      <td>3</td>\n",
       "      <td>4</td>\n",
       "      <td>3</td>\n",
       "      <td>5</td>\n",
       "      <td>5</td>\n",
       "      <td>3</td>\n",
       "      <td>0</td>\n",
       "      <td>NaN</td>\n",
       "      <td>...</td>\n",
       "      <td>NaN</td>\n",
       "      <td>NaN</td>\n",
       "      <td>NaN</td>\n",
       "      <td>NaN</td>\n",
       "      <td>NaN</td>\n",
       "      <td>NaN</td>\n",
       "      <td>NaN</td>\n",
       "      <td>NaN</td>\n",
       "      <td>NaN</td>\n",
       "      <td>NaN</td>\n",
       "    </tr>\n",
       "    <tr>\n",
       "      <th>17</th>\n",
       "      <td>2.0</td>\n",
       "      <td>1</td>\n",
       "      <td>3</td>\n",
       "      <td>4</td>\n",
       "      <td>3</td>\n",
       "      <td>5</td>\n",
       "      <td>5</td>\n",
       "      <td>3</td>\n",
       "      <td>0</td>\n",
       "      <td>NaN</td>\n",
       "      <td>...</td>\n",
       "      <td>NaN</td>\n",
       "      <td>NaN</td>\n",
       "      <td>NaN</td>\n",
       "      <td>NaN</td>\n",
       "      <td>NaN</td>\n",
       "      <td>NaN</td>\n",
       "      <td>NaN</td>\n",
       "      <td>NaN</td>\n",
       "      <td>NaN</td>\n",
       "      <td>NaN</td>\n",
       "    </tr>\n",
       "    <tr>\n",
       "      <th>24</th>\n",
       "      <td>3.0</td>\n",
       "      <td>2</td>\n",
       "      <td>3</td>\n",
       "      <td>4</td>\n",
       "      <td>3</td>\n",
       "      <td>5</td>\n",
       "      <td>5</td>\n",
       "      <td>3</td>\n",
       "      <td>0</td>\n",
       "      <td>NaN</td>\n",
       "      <td>...</td>\n",
       "      <td>NaN</td>\n",
       "      <td>NaN</td>\n",
       "      <td>NaN</td>\n",
       "      <td>NaN</td>\n",
       "      <td>NaN</td>\n",
       "      <td>NaN</td>\n",
       "      <td>NaN</td>\n",
       "      <td>NaN</td>\n",
       "      <td>NaN</td>\n",
       "      <td>NaN</td>\n",
       "    </tr>\n",
       "  </tbody>\n",
       "</table>\n",
       "<p>5 rows × 64 columns</p>\n",
       "</div>"
      ],
      "text/plain": [
       "    ALTERSKATEGORIE_GROB  ANREDE_KZ  FINANZ_MINIMALIST  FINANZ_SPARER  \\\n",
       "0                    2.0          1                  3              4   \n",
       "11                   2.0          1                  3              4   \n",
       "14                   3.0          1                  3              4   \n",
       "17                   2.0          1                  3              4   \n",
       "24                   3.0          2                  3              4   \n",
       "\n",
       "    FINANZ_VORSORGER  FINANZ_ANLEGER  FINANZ_UNAUFFAELLIGER  FINANZ_HAUSBAUER  \\\n",
       "0                  3               5                      5                 3   \n",
       "11                 3               5                      5                 3   \n",
       "14                 3               5                      5                 3   \n",
       "17                 3               5                      5                 3   \n",
       "24                 3               5                      5                 3   \n",
       "\n",
       "    GREEN_AVANTGARDE  HEALTH_TYP          ...           PLZ8_ANTG4  PLZ8_HHZ  \\\n",
       "0                  0         NaN          ...                  NaN       NaN   \n",
       "11                 0         NaN          ...                  NaN       NaN   \n",
       "14                 0         NaN          ...                  NaN       NaN   \n",
       "17                 0         NaN          ...                  NaN       NaN   \n",
       "24                 0         NaN          ...                  NaN       NaN   \n",
       "\n",
       "    PLZ8_GBZ  ARBEIT  ORTSGR_KLS9  RELAT_AB  DECADE  MOVEMENT  \\\n",
       "0        NaN     NaN          NaN       NaN     NaN       NaN   \n",
       "11       NaN     NaN          NaN       NaN     NaN       NaN   \n",
       "14       NaN     NaN          NaN       NaN     NaN       NaN   \n",
       "17       NaN     NaN          NaN       NaN     NaN       NaN   \n",
       "24       NaN     NaN          NaN       NaN     NaN       NaN   \n",
       "\n",
       "    CAMEO_INTL_2015_TENS  CAMEO_INTL_2015_ONES  \n",
       "0                    NaN                   NaN  \n",
       "11                   NaN                   NaN  \n",
       "14                   NaN                   NaN  \n",
       "17                   NaN                   NaN  \n",
       "24                   NaN                   NaN  \n",
       "\n",
       "[5 rows x 64 columns]"
      ]
     },
     "execution_count": 224,
     "metadata": {},
     "output_type": "execute_result"
    }
   ],
   "source": [
    "azdias_row_missing_high.head()"
   ]
  },
  {
   "cell_type": "code",
   "execution_count": 242,
   "metadata": {},
   "outputs": [
    {
     "data": {
      "image/png": "[encoded data removed]",
      "text/plain": [
       "<matplotlib.figure.Figure at 0x7f432290d630>"
      ]
     },
     "metadata": {
      "needs_background": "light"
     },
     "output_type": "display_data"
    },
    {
     "data": {
      "image/png": "[encoded data removed]",
      "text/plain": [
       "<matplotlib.figure.Figure at 0x7f4322d28a20>"
      ]
     },
     "metadata": {
      "needs_background": "light"
     },
     "output_type": "display_data"
    },
    {
     "data": {
      "image/png": "[encoded data removed]",
      "text/plain": [
       "<matplotlib.figure.Figure at 0x7f431f9f1198>"
      ]
     },
     "metadata": {
      "needs_background": "light"
     },
     "output_type": "display_data"
    },
    {
     "data": {
      "image/png": "[encoded data removed]",
      "text/plain": [
       "<matplotlib.figure.Figure at 0x7f431f9d2be0>"
      ]
     },
     "metadata": {
      "needs_background": "light"
     },
     "output_type": "display_data"
    },
    {
     "data": {
      "image/png": "[encoded data removed]",
      "text/plain": [
       "<matplotlib.figure.Figure at 0x7f43228e4470>"
      ]
     },
     "metadata": {
      "needs_background": "light"
     },
     "output_type": "display_data"
    }
   ],
   "source": [
    "# Compare the distribution of values for at least five columns where there are\n",
    "# no or few missing values, between the two subsets.\n",
    "columns_to_compare = ['ONLINE_AFFINITAET', 'ANREDE_KZ', 'RETOURTYP_BK_S', 'HH_EINKOMMEN_SCORE', 'ANZ_PERSONEN']\n",
    "\n",
    "for column in columns_to_compare:\n",
    "    fig, ax =plt.subplots(1,2, figsize=(15, 6))\n",
    "    sns.color_palette(\"hls\", 8)\n",
    "\n",
    "    sns.countplot(data=azdias_row_missing_low, x=column, ax=ax[0], palette = sns.color_palette(\"colorblind\"))\n",
    "    ax[0].set_title(f'Low Missing Values - {column}')\n",
    "\n",
    "    sns.countplot(data=azdias_row_missing_high, x=column, ax=ax[1], palette = sns.color_palette(\"colorblind\"))\n",
    "    ax[1].set_title(f'High Missing Values - {column}')\n",
    "\n",
    "    plt.tight_layout()\n",
    "    plt.show()\n"
   ]
  },
  {
   "cell_type": "markdown",
   "metadata": {},
   "source": [
    "#### Discussion 1.1.3: Assess Missing Data in Each Row\n",
    "\n",
    "After investigating missing data by bar chart and listing the columns with the most missing data, I came to the conclustion that any columns with more than 15k NaNs were outliers. Columns 'TITEL_KZ', 'AGER_TYP', 'KK_KUNDENTYP', 'KBA05_BAUMAX', 'GEBURTSJAHR', and 'ALTER_HH' all had higher than normal missing data so we dropped them from the dataframe. \n",
    "\n",
    "To identify the threshold for rows with high or low missing data, I plotted the distribution. I found that rows with more than 10 missing datatypes to outliers and therefore, high."
   ]
  },
  {
   "cell_type": "markdown",
   "metadata": {},
   "source": [
    "### Step 1.2: Select and Re-Encode Features\n",
    "\n",
    "Checking for missing data isn't the only way in which you can prepare a dataset for analysis. Since the unsupervised learning techniques to be used will only work on data that is encoded numerically, you need to make a few encoding changes or additional assumptions to be able to make progress. In addition, while almost all of the values in the dataset are encoded using numbers, not all of them represent numeric values. Check the third column of the feature summary (`feat_info`) for a summary of types of measurement.\n",
    "- For numeric and interval data, these features can be kept without changes.\n",
    "- Most of the variables in the dataset are ordinal in nature. While ordinal values may technically be non-linear in spacing, make the simplifying assumption that the ordinal variables can be treated as being interval in nature (that is, kept without any changes).\n",
    "- Special handling may be necessary for the remaining two variable types: categorical, and 'mixed'.\n",
    "\n",
    "In the first two parts of this sub-step, you will perform an investigation of the categorical and mixed-type features and make a decision on each of them, whether you will keep, drop, or re-encode each. Then, in the last part, you will create a new data frame with only the selected and engineered columns.\n",
    "\n",
    "Data wrangling is often the trickiest part of the data analysis process, and there's a lot of it to be done here. But stick with it: once you're done with this step, you'll be ready to get to the machine learning parts of the project!"
   ]
  },
  {
   "cell_type": "code",
   "execution_count": 33,
   "metadata": {
    "scrolled": true
   },
   "outputs": [
    {
     "data": {
      "text/plain": [
       "type\n",
       "categorical    21\n",
       "interval        1\n",
       "mixed           7\n",
       "numeric         7\n",
       "ordinal        49\n",
       "Name: attribute, dtype: int64"
      ]
     },
     "execution_count": 33,
     "metadata": {},
     "output_type": "execute_result"
    }
   ],
   "source": [
    "# How many features are there of each data type?\n",
    "feat_info.groupby('type').count()['attribute']\n"
   ]
  },
  {
   "cell_type": "code",
   "execution_count": 34,
   "metadata": {},
   "outputs": [
    {
     "data": {
      "text/html": [
       "<div>\n",
       "<style scoped>\n",
       "    .dataframe tbody tr th:only-of-type {\n",
       "        vertical-align: middle;\n",
       "    }\n",
       "\n",
       "    .dataframe tbody tr th {\n",
       "        vertical-align: top;\n",
       "    }\n",
       "\n",
       "    .dataframe thead th {\n",
       "        text-align: right;\n",
       "    }\n",
       "</style>\n",
       "<table border=\"1\" class=\"dataframe\">\n",
       "  <thead>\n",
       "    <tr style=\"text-align: right;\">\n",
       "      <th></th>\n",
       "      <th>attribute</th>\n",
       "      <th>information_level</th>\n",
       "      <th>type</th>\n",
       "      <th>missing_or_unknown</th>\n",
       "    </tr>\n",
       "  </thead>\n",
       "  <tbody>\n",
       "    <tr>\n",
       "      <th>0</th>\n",
       "      <td>AGER_TYP</td>\n",
       "      <td>person</td>\n",
       "      <td>categorical</td>\n",
       "      <td>[-1,0]</td>\n",
       "    </tr>\n",
       "    <tr>\n",
       "      <th>1</th>\n",
       "      <td>ALTERSKATEGORIE_GROB</td>\n",
       "      <td>person</td>\n",
       "      <td>ordinal</td>\n",
       "      <td>[-1,0,9]</td>\n",
       "    </tr>\n",
       "    <tr>\n",
       "      <th>2</th>\n",
       "      <td>ANREDE_KZ</td>\n",
       "      <td>person</td>\n",
       "      <td>categorical</td>\n",
       "      <td>[-1,0]</td>\n",
       "    </tr>\n",
       "    <tr>\n",
       "      <th>3</th>\n",
       "      <td>CJT_GESAMTTYP</td>\n",
       "      <td>person</td>\n",
       "      <td>categorical</td>\n",
       "      <td>[0]</td>\n",
       "    </tr>\n",
       "    <tr>\n",
       "      <th>4</th>\n",
       "      <td>FINANZ_MINIMALIST</td>\n",
       "      <td>person</td>\n",
       "      <td>ordinal</td>\n",
       "      <td>[-1]</td>\n",
       "    </tr>\n",
       "  </tbody>\n",
       "</table>\n",
       "</div>"
      ],
      "text/plain": [
       "              attribute information_level         type missing_or_unknown\n",
       "0              AGER_TYP            person  categorical             [-1,0]\n",
       "1  ALTERSKATEGORIE_GROB            person      ordinal           [-1,0,9]\n",
       "2             ANREDE_KZ            person  categorical             [-1,0]\n",
       "3         CJT_GESAMTTYP            person  categorical                [0]\n",
       "4     FINANZ_MINIMALIST            person      ordinal               [-1]"
      ]
     },
     "execution_count": 34,
     "metadata": {},
     "output_type": "execute_result"
    }
   ],
   "source": [
    "feat_info.head()"
   ]
  },
  {
   "cell_type": "markdown",
   "metadata": {},
   "source": [
    "#### Step 1.2.1: Re-Encode Categorical Features\n",
    "\n",
    "For categorical data, you would ordinarily need to encode the levels as dummy variables. Depending on the number of categories, perform one of the following:\n",
    "- For binary (two-level) categoricals that take numeric values, you can keep them without needing to do anything.\n",
    "- There is one binary variable that takes on non-numeric values. For this one, you need to re-encode the values as numbers or create a dummy variable.\n",
    "- For multi-level categoricals (three or more values), you can choose to encode the values using multiple dummy variables (e.g. via [OneHotEncoder](http://scikit-learn.org/stable/modules/generated/sklearn.preprocessing.OneHotEncoder.html)), or (to keep things straightforward) just drop them from the analysis. As always, document your choices in the Discussion section."
   ]
  },
  {
   "cell_type": "code",
   "execution_count": 35,
   "metadata": {
    "scrolled": false
   },
   "outputs": [
    {
     "data": {
      "text/plain": [
       "KBA13_ANZAHL_PKW         1261\n",
       "ANZ_HAUSHALTE_AKTIV       291\n",
       "CAMEO_DEU_2015             44\n",
       "LP_LEBENSPHASE_FEIN        40\n",
       "MIN_GEBAEUDEJAHR           32\n",
       "ANZ_PERSONEN               30\n",
       "CAMEO_INTL_2015            21\n",
       "ANZ_HH_TITEL               21\n",
       "PRAEGENDE_JUGENDJAHRE      15\n",
       "LP_LEBENSPHASE_GROB        12\n",
       "GFK_URLAUBERTYP            12\n",
       "LP_FAMILIE_FEIN            11\n",
       "LP_STATUS_FEIN             10\n",
       "ORTSGR_KLS9                 9\n",
       "CAMEO_DEUG_2015             9\n",
       "WOHNDAUER_2008              9\n",
       "WOHNLAGE                    8\n",
       "INNENSTADT                  8\n",
       "SEMIO_SOZ                   7\n",
       "SEMIO_KAEM                  7\n",
       "GEBAEUDETYP                 7\n",
       "SEMIO_RAT                   7\n",
       "SEMIO_FAM                   7\n",
       "SEMIO_TRADV                 7\n",
       "SEMIO_KULT                  7\n",
       "SEMIO_ERL                   7\n",
       "SEMIO_PFLICHT               7\n",
       "SEMIO_LUST                  7\n",
       "SEMIO_KRIT                  7\n",
       "SEMIO_VERT                  7\n",
       "                         ... \n",
       "FINANZ_ANLEGER              5\n",
       "FINANZ_VORSORGER            5\n",
       "FINANZ_SPARER               5\n",
       "FINANZ_MINIMALIST           5\n",
       "LP_STATUS_GROB              5\n",
       "RELAT_AB                    5\n",
       "ARBEIT                      5\n",
       "PLZ8_GBZ                    5\n",
       "PLZ8_HHZ                    5\n",
       "KBA05_ANTG1                 5\n",
       "KBA05_ANTG2                 5\n",
       "PLZ8_BAUMAX                 5\n",
       "KBA05_GBZ                   5\n",
       "GEBAEUDETYP_RASTER          5\n",
       "PLZ8_ANTG2                  5\n",
       "PLZ8_ANTG1                  5\n",
       "SHOPPER_TYP                 4\n",
       "KKK                         4\n",
       "PLZ8_ANTG3                  4\n",
       "ALTERSKATEGORIE_GROB        4\n",
       "KBA05_ANTG3                 4\n",
       "HEALTH_TYP                  3\n",
       "KBA05_ANTG4                 3\n",
       "PLZ8_ANTG4                  3\n",
       "NATIONALITAET_KZ            3\n",
       "SOHO_KZ                     2\n",
       "OST_WEST_KZ                 2\n",
       "VERS_TYP                    2\n",
       "ANREDE_KZ                   2\n",
       "GREEN_AVANTGARDE            2\n",
       "Length: 79, dtype: int64"
      ]
     },
     "execution_count": 35,
     "metadata": {},
     "output_type": "execute_result"
    }
   ],
   "source": [
    "# Assess categorical variables: which are binary, which are multi-level, and\n",
    "# which one needs to be re-encoded?\n",
    "azdias_copy.nunique().sort_values(ascending=False)\n",
    "\n"
   ]
  },
  {
   "cell_type": "code",
   "execution_count": 195,
   "metadata": {},
   "outputs": [],
   "source": [
    "#Dropping rows that have attributes no dropped from azdias_copy to prevent Key Error\n",
    "feat_info_copy = feat_info[~feat_info['attribute'].isin(['AGER_TYP', 'TITEL_KZ', 'KK_KUNDENTYP', 'KBA05_BAUMAX'])]\n",
    "\n"
   ]
  },
  {
   "cell_type": "code",
   "execution_count": 196,
   "metadata": {
    "scrolled": true
   },
   "outputs": [
    {
     "name": "stdout",
     "output_type": "stream",
     "text": [
      "CAMEO_DEU_2015      44\n",
      "GFK_URLAUBERTYP     12\n",
      "LP_FAMILIE_FEIN     11\n",
      "LP_STATUS_FEIN      10\n",
      "CAMEO_DEUG_2015      9\n",
      "GEBAEUDETYP          7\n",
      "CJT_GESAMTTYP        6\n",
      "ZABEOTYP             6\n",
      "FINANZTYP            6\n",
      "LP_FAMILIE_GROB      5\n",
      "LP_STATUS_GROB       5\n",
      "SHOPPER_TYP          4\n",
      "NATIONALITAET_KZ     3\n",
      "GREEN_AVANTGARDE     2\n",
      "SOHO_KZ              2\n",
      "VERS_TYP             2\n",
      "OST_WEST_KZ          2\n",
      "ANREDE_KZ            2\n",
      "dtype: int64\n"
     ]
    }
   ],
   "source": [
    "# get the names of columns which are categorical\n",
    "categorical_columns_filter = feat_info_copy[feat_info_copy['type'] == 'categorical']['attribute']\n",
    "\n",
    "# subset azdias_copy by the categorical columns\n",
    "categorical_azdias = azdias_copy[categorical_columns_filter]\n",
    "\n",
    "# count unique values in each categorical column\n",
    "unique_counts = categorical_azdias.nunique().sort_values(ascending=False)\n",
    "\n",
    "print(unique_counts)"
   ]
  },
  {
   "cell_type": "code",
   "execution_count": 197,
   "metadata": {},
   "outputs": [
    {
     "name": "stdout",
     "output_type": "stream",
     "text": [
      "GREEN_AVANTGARDE [0 1]\n",
      "SOHO_KZ [ nan   1.   0.]\n",
      "VERS_TYP [ nan   2.   1.]\n",
      "OST_WEST_KZ [nan 'W' 'O']\n",
      "ANREDE_KZ [1 2]\n"
     ]
    }
   ],
   "source": [
    "#print binary columns to see what data they hold\n",
    "binary_columns = ['GREEN_AVANTGARDE', 'SOHO_KZ', 'VERS_TYP', 'OST_WEST_KZ', 'ANREDE_KZ']\n",
    "for feature in binary_columns:\n",
    "    print(feature, azdias_copy[feature].unique())\n"
   ]
  },
  {
   "cell_type": "code",
   "execution_count": 198,
   "metadata": {},
   "outputs": [],
   "source": [
    "#Re-encoding OST_WEST_KZ to binary features\n",
    "azdias_copy['OST_WEST_KZ'] = azdias_copy['OST_WEST_KZ'].replace({'W': 0, 'O': 1})\n"
   ]
  },
  {
   "cell_type": "code",
   "execution_count": 199,
   "metadata": {
    "scrolled": false
   },
   "outputs": [
    {
     "name": "stdout",
     "output_type": "stream",
     "text": [
      "GREEN_AVANTGARDE [0 1]\n",
      "SOHO_KZ [ nan   1.   0.]\n",
      "VERS_TYP [ nan   2.   1.]\n",
      "OST_WEST_KZ [ nan   0.   1.]\n",
      "ANREDE_KZ [1 2]\n"
     ]
    }
   ],
   "source": [
    "#Checking re-encoding\n",
    "binary_columns = ['GREEN_AVANTGARDE', 'SOHO_KZ', 'VERS_TYP', 'OST_WEST_KZ', 'ANREDE_KZ']\n",
    "for feature in binary_columns:\n",
    "    print(feature, azdias_copy[feature].unique())"
   ]
  },
  {
   "cell_type": "code",
   "execution_count": 200,
   "metadata": {},
   "outputs": [
    {
     "data": {
      "text/plain": [
       "(891221, 79)"
      ]
     },
     "execution_count": 200,
     "metadata": {},
     "output_type": "execute_result"
    }
   ],
   "source": [
    "#Checking shape before dropping columns to confirm shape after\n",
    "azdias_copy.shape"
   ]
  },
  {
   "cell_type": "code",
   "execution_count": 201,
   "metadata": {},
   "outputs": [],
   "source": [
    "#Dropping categorical columns with more than 2 unique features\n",
    "for col in categorical_columns_filter:\n",
    "    if col in azdias_copy.columns and azdias_copy[col].nunique() > 2:\n",
    "         #Drop the columns\n",
    "        azdias_copy.drop(columns=[col], inplace=True)\n"
   ]
  },
  {
   "cell_type": "code",
   "execution_count": 202,
   "metadata": {},
   "outputs": [
    {
     "data": {
      "text/plain": [
       "(891221, 66)"
      ]
     },
     "execution_count": 202,
     "metadata": {},
     "output_type": "execute_result"
    }
   ],
   "source": [
    "azdias_copy.shape"
   ]
  },
  {
   "cell_type": "markdown",
   "metadata": {},
   "source": [
    "#### Discussion 1.2.1: Re-Encode Categorical Features\n",
    "\n",
    "There were 18 categorical features in the dataframe. Only 5 of them were binary. for simplicity's sake, I removed any features that contained more than 2 unique values. OST_WEST_KZ contained non numerical characters representing the binary values. I needed to recode them to numerical values for scikit learn to handle them correctly. \"W\" now equals 0 and \"O\" now equals 1. "
   ]
  },
  {
   "cell_type": "code",
   "execution_count": 203,
   "metadata": {},
   "outputs": [
    {
     "name": "stdout",
     "output_type": "stream",
     "text": [
      "LP_LEBENSPHASE_FEIN      40\n",
      "LP_LEBENSPHASE_GROB      12\n",
      "PRAEGENDE_JUGENDJAHRE    15\n",
      "WOHNLAGE                  8\n",
      "CAMEO_INTL_2015          21\n",
      "PLZ8_BAUMAX               5\n",
      "dtype: int64\n"
     ]
    }
   ],
   "source": [
    "# get the names of columns which are mixed\n",
    "mixed_columns_filter = feat_info_copy[feat_info_copy['type'] == 'mixed']['attribute']\n",
    "\n",
    "# subset azdias_copy by the categorical columns\n",
    "categorical_azdias = azdias_copy[mixed_columns_filter]\n",
    "\n",
    "# count unique values in each categorical column\n",
    "unique_counts = categorical_azdias.nunique()\n",
    "\n",
    "print(unique_counts)"
   ]
  },
  {
   "cell_type": "markdown",
   "metadata": {},
   "source": [
    "#### Step 1.2.2: Engineer Mixed-Type Features\n",
    "\n",
    "There are a handful of features that are marked as \"mixed\" in the feature summary that require special treatment in order to be included in the analysis. There are two in particular that deserve attention; the handling of the rest are up to your own choices:\n",
    "- \"PRAEGENDE_JUGENDJAHRE\" combines information on three dimensions: generation by decade, movement (mainstream vs. avantgarde), and nation (east vs. west). While there aren't enough levels to disentangle east from west, you should create two new variables to capture the other two dimensions: an interval-type variable for decade, and a binary variable for movement.\n",
    "- \"CAMEO_INTL_2015\" combines information on two axes: wealth and life stage. Break up the two-digit codes by their 'tens'-place and 'ones'-place digits into two new ordinal variables (which, for the purposes of this project, is equivalent to just treating them as their raw numeric values).\n",
    "- If you decide to keep or engineer new features around the other mixed-type features, make sure you note your steps in the Discussion section.\n",
    "\n",
    "Be sure to check `Data_Dictionary.md` for the details needed to finish these tasks."
   ]
  },
  {
   "cell_type": "code",
   "execution_count": 45,
   "metadata": {},
   "outputs": [
    {
     "name": "stdout",
     "output_type": "stream",
     "text": [
      "PRAEGENDE_JUGENDJAHRE [ nan  14.  15.   8.   3.  10.  11.   5.   9.   6.   4.   2.   1.  12.  13.\n",
      "   7.]\n"
     ]
    }
   ],
   "source": [
    "# Investigate \"PRAEGENDE_JUGENDJAHRE\" and engineer two new variables.\n",
    "for feature in ['PRAEGENDE_JUGENDJAHRE']:\n",
    "    print(feature, azdias_copy[feature].unique())"
   ]
  },
  {
   "cell_type": "code",
   "execution_count": 204,
   "metadata": {},
   "outputs": [],
   "source": [
    "# Mapping for decades\n",
    "decade_dict = {\n",
    "    1: 40, 2: 40, # 40s\n",
    "    3: 50, 4: 50, # 50s\n",
    "    5: 60, 6: 60, 7: 60, # 60s\n",
    "    8: 70, 9: 70, # 70s\n",
    "    10: 80, 11: 80, 12: 80, 13: 80, # 80s\n",
    "    14: 90, 15: 90 # 90s\n",
    "}\n",
    "\n",
    "# Mapping for movement: Mainstream = 0, Avantgarde = 1\n",
    "movement_dict = {\n",
    "    1: 0, 3: 0, 5: 0, 8: 0, 10: 0, 12: 0, 14: 0, # Mainstream\n",
    "    2: 1, 4: 1, 6: 1, 7: 1, 9: 1, 11: 1, 13: 1, 15: 1  # Avantgarde\n",
    "}\n"
   ]
  },
  {
   "cell_type": "code",
   "execution_count": 205,
   "metadata": {},
   "outputs": [
    {
     "data": {
      "text/plain": [
       "(891221, 66)"
      ]
     },
     "execution_count": 205,
     "metadata": {},
     "output_type": "execute_result"
    }
   ],
   "source": [
    "azdias_copy.shape"
   ]
  },
  {
   "cell_type": "code",
   "execution_count": 206,
   "metadata": {},
   "outputs": [
    {
     "data": {
      "text/plain": [
       "(891221, 68)"
      ]
     },
     "execution_count": 206,
     "metadata": {},
     "output_type": "execute_result"
    }
   ],
   "source": [
    "# Creating new features in azdias_copy\n",
    "azdias_copy['DECADE'] = azdias_copy['PRAEGENDE_JUGENDJAHRE'].map(decade_dict)\n",
    "azdias_copy['MOVEMENT'] = azdias_copy['PRAEGENDE_JUGENDJAHRE'].map(movement_dict)\n",
    "azdias_copy.shape # Checking that new fatures were added"
   ]
  },
  {
   "cell_type": "code",
   "execution_count": 49,
   "metadata": {
    "scrolled": true
   },
   "outputs": [
    {
     "name": "stdout",
     "output_type": "stream",
     "text": [
      "CAMEO_INTL_2015 [nan '51' '24' '12' '43' '54' '22' '14' '13' '15' '33' '41' '34' '55' '25'\n",
      " '23' '31' '52' '35' '45' '44' '32']\n"
     ]
    }
   ],
   "source": [
    "# Investigate \"CAMEO_INTL_2015\" and engineer two new variables.\n",
    "for feature in ['CAMEO_INTL_2015']:\n",
    "    print(feature, azdias_copy[feature].unique())\n",
    "\n"
   ]
  },
  {
   "cell_type": "code",
   "execution_count": 207,
   "metadata": {},
   "outputs": [
    {
     "data": {
      "text/plain": [
       "(891221, 70)"
      ]
     },
     "execution_count": 207,
     "metadata": {},
     "output_type": "execute_result"
    }
   ],
   "source": [
    "# Extract 'TENS' column\n",
    "azdias_copy['CAMEO_INTL_2015_TENS'] = azdias_copy['CAMEO_INTL_2015'].str[0]\n",
    "\n",
    "# Extract 'ONES' column\n",
    "azdias_copy['CAMEO_INTL_2015_ONES'] = azdias_copy['CAMEO_INTL_2015'].str[1]\n",
    "azdias_copy.shape"
   ]
  },
  {
   "cell_type": "markdown",
   "metadata": {},
   "source": [
    "#### Discussion 1.2.2: Engineer Mixed-Type Features\n",
    "\n",
    "**PRAEGENDE_JUGENDJAHRE:** Contained multiple features in each cell; the decade, name of the movement, and if the movement was considered mainstream or avantgarde. It was thankfully ordered by decade and then alternated between movement type, making it easier to parse via a dictionary. (Mainstream being odd indexes and Avantgarde being even)\n",
    "\n",
    "**CAMEO_INTL_2015** Contained 2 features in each cell; wealth category and life stage. Since each wealth category uses the same tens digit and the ones increase by 1, we can use these as ordinal values in our scikit learn. ( we don't need the non-numerical parts) These also needed to be separated and added to two columns."
   ]
  },
  {
   "cell_type": "markdown",
   "metadata": {},
   "source": [
    "#### Step 1.2.3: Complete Feature Selection\n",
    "\n",
    "In order to finish this step up, you need to make sure that your data frame now only has the columns that you want to keep. To summarize, the dataframe should consist of the following:\n",
    "- All numeric, interval, and ordinal type columns from the original dataset.\n",
    "- Binary categorical features (all numerically-encoded).\n",
    "- Engineered features from other multi-level categorical features and mixed features.\n",
    "\n",
    "Make sure that for any new columns that you have engineered, that you've excluded the original columns from the final dataset. Otherwise, their values will interfere with the analysis later on the project. For example, you should not keep \"PRAEGENDE_JUGENDJAHRE\", since its values won't be useful for the algorithm: only the values derived from it in the engineered features you created should be retained. As a reminder, your data should only be from **the subset with few or no missing values**."
   ]
  },
  {
   "cell_type": "code",
   "execution_count": 51,
   "metadata": {},
   "outputs": [],
   "source": [
    "# If there are other re-engineering tasks you need to perform, make sure you\n",
    "# take care of them here. (Dealing with missing data will come in step 2.1.)\n",
    "\n"
   ]
  },
  {
   "cell_type": "code",
   "execution_count": 208,
   "metadata": {},
   "outputs": [
    {
     "data": {
      "text/plain": [
       "(891221, 68)"
      ]
     },
     "execution_count": 208,
     "metadata": {},
     "output_type": "execute_result"
    }
   ],
   "source": [
    "# Dropping old columns used for engineering \n",
    "azdias_copy.drop(['PRAEGENDE_JUGENDJAHRE'], axis=1, inplace=True)\n",
    "azdias_copy.drop(['CAMEO_INTL_2015'], axis=1, inplace=True)\n",
    "azdias_copy.shape"
   ]
  },
  {
   "cell_type": "code",
   "execution_count": 209,
   "metadata": {},
   "outputs": [
    {
     "data": {
      "text/plain": [
       "(891221, 64)"
      ]
     },
     "execution_count": 209,
     "metadata": {},
     "output_type": "execute_result"
    }
   ],
   "source": [
    "# Do whatever you need to in order to ensure that the dataframe only contains\n",
    "# the columns that should be passed to the algorithm functions.\n",
    "# get the names of columns which are mixed type and still present in azdias_copy\n",
    "valid_mixed_columns_filter = [col for col in mixed_columns_filter if col in azdias_copy.columns]\n",
    "\n",
    "# Dropping mixed still present\n",
    "azdias_copy.drop(valid_mixed_columns_filter, axis=1, errors='ignore', inplace=True)\n",
    "azdias_copy_test1 = azdias_copy\n",
    "azdias_copy_test1.shape#REMOVE"
   ]
  },
  {
   "cell_type": "code",
   "execution_count": null,
   "metadata": {},
   "outputs": [],
   "source": [
    "# Create copy of manually cleaned data for later comparison\n",
    "azdias_manual_clean = azdias_copy"
   ]
  },
  {
   "cell_type": "markdown",
   "metadata": {},
   "source": [
    "### Step 1.3: Create a Cleaning Function\n",
    "\n",
    "Even though you've finished cleaning up the general population demographics data, it's important to look ahead to the future and realize that you'll need to perform the same cleaning steps on the customer demographics data. In this substep, complete the function below to execute the main feature selection, encoding, and re-engineering steps you performed above. Then, when it comes to looking at the customer data in Step 3, you can just run this function on that DataFrame to get the trimmed dataset in a single step."
   ]
  },
  {
   "cell_type": "code",
   "execution_count": 260,
   "metadata": {},
   "outputs": [],
   "source": [
    "def clean_data(df):\n",
    "    \"\"\"\n",
    "    Perform feature trimming, re-encoding, and engineering for demographics\n",
    "    data\n",
    "    \n",
    "    INPUT: Demographics DataFrame\n",
    "    OUTPUT: Trimmed and cleaned demographics DataFrame\n",
    "    \"\"\"\n",
    "    \n",
    "    # Put in code here to execute all main cleaning steps:\n",
    "    # Load in the general demographics data.\n",
    "    azdias = df\n",
    "    \n",
    "\n",
    "\n",
    "    # Load in the feature summary file.\n",
    "    feat_info = pd.read_csv('AZDIAS_Feature_Summary.csv', delimiter=';')\n",
    "    \n",
    "    # Creating copy of feature_info for data manipulation\n",
    "    feat_info_copy = feat_info.copy()\n",
    "    \n",
    "    #Parsing \"missing_or_unknown\" and adding characters to list\n",
    "    feat_info_copy['missing_or_unknown'] = (\n",
    "        feat_info_copy['missing_or_unknown']\n",
    "        .str.strip('[]') #strip bracket\n",
    "        .str.split(',') #split by comma\n",
    "        .apply(lambda x: [int(i) if i.lstrip('-').isdigit() else i.strip().strip(\"'\") for i in x]) #convert to correct type\n",
    "    )\n",
    "\n",
    "    # Creating copy of azdias for data manipulation\n",
    "    azdias_copy = azdias.copy()\n",
    "\n",
    "    # convert missing value codes into NaNs, ...\n",
    "    # Updating azdias_copy to convert attributes in the info df to NaN\n",
    "    for index, row in feat_info_copy.iterrows():\n",
    "        attribute = row['attribute']\n",
    "        missing_or_unknown = row['missing_or_unknown']\n",
    "        if attribute in azdias_copy.columns:\n",
    "            azdias_copy[attribute] = azdias_copy[attribute].apply(lambda x: np.nan if x in missing_or_unknown else x)\n",
    "   \n",
    "    \n",
    "    # remove selected columns and rows, ...\n",
    "    # Remove the outlier columns from the dataset.\n",
    "    azdias_copy.drop(['TITEL_KZ', 'AGER_TYP', 'KK_KUNDENTYP', 'KBA05_BAUMAX', 'GEBURTSJAHR', 'ALTER_HH'], axis=1, inplace=True)\n",
    "\n",
    "    #Dropping rows that have attributes dropped from azdias_copy to prevent Key Error\n",
    "    feat_info_copy = feat_info[~feat_info['attribute'].isin(['AGER_TYP', 'TITEL_KZ', 'KK_KUNDENTYP', 'KBA05_BAUMAX'])]\n",
    "    \n",
    "    # select, re-encode, and engineer column values.\n",
    "    # get the names of columns which are categorical\n",
    "    categorical_columns_filter = feat_info_copy[feat_info_copy['type'] == 'categorical']['attribute']\n",
    "    \n",
    "    # get the names of columns which are mixed\n",
    "    mixed_columns_filter = feat_info_copy[feat_info_copy['type'] == 'mixed']['attribute']\n",
    "    \n",
    "    #Re-encoding OST_WEST_KZ to binary features    \n",
    "    azdias_copy['OST_WEST_KZ'] = azdias_copy['OST_WEST_KZ'].replace({'W': 0, 'O': 1})\n",
    "\n",
    "    \n",
    "    #Dropping categorical columns with more than 2 unique features\n",
    "    for col in categorical_columns_filter:\n",
    "        if col in azdias_copy.columns and azdias_copy[col].nunique() > 2:\n",
    "             #Drop the columns\n",
    "            azdias_copy.drop(columns=[col], inplace=True)\n",
    "            \n",
    "    # Mapping for decades\n",
    "    decade_dict = {\n",
    "        1: 40, 2: 40, # 40s\n",
    "        3: 50, 4: 50, # 50s\n",
    "        5: 60, 6: 60, 7: 60, # 60s\n",
    "        8: 70, 9: 70, # 70s\n",
    "        10: 80, 11: 80, 12: 80, 13: 80, # 80s\n",
    "        14: 90, 15: 90 # 90s\n",
    "    }\n",
    "\n",
    "    # Mapping for movement: Mainstream = 0, Avantgarde = 1\n",
    "    movement_dict = {\n",
    "        1: 0, 3: 0, 5: 0, 8: 0, 10: 0, 12: 0, 14: 0, # Mainstream\n",
    "        2: 1, 4: 1, 6: 1, 7: 1, 9: 1, 11: 1, 13: 1, 15: 1  # Avantgarde\n",
    "    }\n",
    "\n",
    "    # Creating new features in azdias_copy\n",
    "    azdias_copy['DECADE'] = azdias_copy['PRAEGENDE_JUGENDJAHRE'].map(decade_dict)\n",
    "    azdias_copy['MOVEMENT'] = azdias_copy['PRAEGENDE_JUGENDJAHRE'].map(movement_dict)\n",
    "    \n",
    "    # Extract 'TENS' column\n",
    "    azdias_copy['CAMEO_INTL_2015_TENS'] = azdias_copy['CAMEO_INTL_2015'].str[0]\n",
    "\n",
    "    # Extract 'ONES' column\n",
    "    azdias_copy['CAMEO_INTL_2015_ONES'] = azdias_copy['CAMEO_INTL_2015'].str[1]\n",
    "   \n",
    "    # Dropping old columns used for engineering \n",
    "    azdias_copy.drop(['PRAEGENDE_JUGENDJAHRE'], axis=1, inplace=True)\n",
    "    azdias_copy.drop(['CAMEO_INTL_2015'], axis=1, inplace=True)\n",
    "    \n",
    "    # get the names of columns which are mixed type and still present in azdias_copy\n",
    "    valid_mixed_columns_filter = [col for col in mixed_columns_filter if col in azdias_copy.columns]\n",
    "\n",
    "    # Dropping mixed still present\n",
    "    azdias_copy.drop(valid_mixed_columns_filter, axis=1, errors='ignore', inplace=True)\n",
    "    \n",
    "    \n",
    "    # Return the cleaned dataframe.\n",
    "    df = azdias_copy\n",
    "    \n",
    "    #assert azdias_copy_test1.shape[0] == azdias_copy.shape[0], \"clean_data function is not working properly, rows mismatch\"\n",
    "    #assert azdias_copy_test1.shape[1] == azdias_copy.shape[1], \"clean_data function is not working properly, columns mismatch\"\n",
    "\n",
    "    print(\"If this is all you see, you passed the tests\")\n",
    "    return df"
   ]
  },
  {
   "cell_type": "code",
   "execution_count": 211,
   "metadata": {},
   "outputs": [],
   "source": [
    "azdias_clean = pd.read_csv('Udacity_AZDIAS_Subset.csv', delimiter=';')"
   ]
  },
  {
   "cell_type": "code",
   "execution_count": 212,
   "metadata": {},
   "outputs": [
    {
     "name": "stdout",
     "output_type": "stream",
     "text": [
      "If this is all you see, you passed the tests\n"
     ]
    }
   ],
   "source": [
    "azdias_clean = clean_data(azdias_clean)"
   ]
  },
  {
   "cell_type": "code",
   "execution_count": 213,
   "metadata": {},
   "outputs": [
    {
     "data": {
      "text/plain": [
       "(891221, 64)"
      ]
     },
     "execution_count": 213,
     "metadata": {},
     "output_type": "execute_result"
    }
   ],
   "source": [
    "azdias_clean.shape"
   ]
  },
  {
   "cell_type": "markdown",
   "metadata": {},
   "source": [
    "## Step 2: Feature Transformation\n",
    "\n",
    "### Step 2.1: Apply Feature Scaling\n",
    "\n",
    "Before we apply dimensionality reduction techniques to the data, we need to perform feature scaling so that the principal component vectors are not influenced by the natural differences in scale for features. Starting from this part of the project, you'll want to keep an eye on the [API reference page for sklearn](http://scikit-learn.org/stable/modules/classes.html) to help you navigate to all of the classes and functions that you'll need. In this substep, you'll need to check the following:\n",
    "\n",
    "- sklearn requires that data not have missing values in order for its estimators to work properly. So, before applying the scaler to your data, make sure that you've cleaned the DataFrame of the remaining missing values. This can be as simple as just removing all data points with missing data, or applying an [Imputer](https://scikit-learn.org/0.16/modules/generated/sklearn.preprocessing.Imputer.html) to replace all missing values. You might also try a more complicated procedure where you temporarily remove missing values in order to compute the scaling parameters before re-introducing those missing values and applying imputation. Think about how much missing data you have and what possible effects each approach might have on your analysis, and justify your decision in the discussion section below.\n",
    "- For the actual scaling function, a [StandardScaler](http://scikit-learn.org/stable/modules/generated/sklearn.preprocessing.StandardScaler.html) instance is suggested, scaling each feature to mean 0 and standard deviation 1.\n",
    "- For these classes, you can make use of the `.fit_transform()` method to both fit a procedure to the data as well as apply the transformation to the data at the same time. Don't forget to keep the fit sklearn objects handy, since you'll be applying them to the customer demographics data towards the end of the project."
   ]
  },
  {
   "cell_type": "code",
   "execution_count": 58,
   "metadata": {},
   "outputs": [
    {
     "data": {
      "text/plain": [
       "4386778"
      ]
     },
     "execution_count": 58,
     "metadata": {},
     "output_type": "execute_result"
    }
   ],
   "source": [
    "# If you've not yet cleaned the dataset of all NaN values, then investigate and\n",
    "# do that now.\n",
    "azdias_clean.isna().sum().sum()"
   ]
  },
  {
   "cell_type": "code",
   "execution_count": 244,
   "metadata": {},
   "outputs": [
    {
     "data": {
      "text/plain": [
       "0"
      ]
     },
     "execution_count": 244,
     "metadata": {},
     "output_type": "execute_result"
    }
   ],
   "source": [
    "# Imputing missing values\n",
    "from sklearn.preprocessing import Imputer\n",
    "\n",
    "imputer = Imputer(strategy='mean')\n",
    "azdias_imp = pd.DataFrame(imputer.fit_transform(azdias_clean), columns=azdias_clean.columns)\n",
    "azdias_imp.isna().sum().sum() # Outputs count of missing data for qc"
   ]
  },
  {
   "cell_type": "code",
   "execution_count": 245,
   "metadata": {},
   "outputs": [
    {
     "data": {
      "text/html": [
       "<div>\n",
       "<style scoped>\n",
       "    .dataframe tbody tr th:only-of-type {\n",
       "        vertical-align: middle;\n",
       "    }\n",
       "\n",
       "    .dataframe tbody tr th {\n",
       "        vertical-align: top;\n",
       "    }\n",
       "\n",
       "    .dataframe thead th {\n",
       "        text-align: right;\n",
       "    }\n",
       "</style>\n",
       "<table border=\"1\" class=\"dataframe\">\n",
       "  <thead>\n",
       "    <tr style=\"text-align: right;\">\n",
       "      <th></th>\n",
       "      <th>ALTERSKATEGORIE_GROB</th>\n",
       "      <th>ANREDE_KZ</th>\n",
       "      <th>FINANZ_MINIMALIST</th>\n",
       "      <th>FINANZ_SPARER</th>\n",
       "      <th>FINANZ_VORSORGER</th>\n",
       "      <th>FINANZ_ANLEGER</th>\n",
       "      <th>FINANZ_UNAUFFAELLIGER</th>\n",
       "      <th>FINANZ_HAUSBAUER</th>\n",
       "      <th>GREEN_AVANTGARDE</th>\n",
       "      <th>HEALTH_TYP</th>\n",
       "      <th>...</th>\n",
       "      <th>PLZ8_ANTG4</th>\n",
       "      <th>PLZ8_HHZ</th>\n",
       "      <th>PLZ8_GBZ</th>\n",
       "      <th>ARBEIT</th>\n",
       "      <th>ORTSGR_KLS9</th>\n",
       "      <th>RELAT_AB</th>\n",
       "      <th>DECADE</th>\n",
       "      <th>MOVEMENT</th>\n",
       "      <th>CAMEO_INTL_2015_TENS</th>\n",
       "      <th>CAMEO_INTL_2015_ONES</th>\n",
       "    </tr>\n",
       "  </thead>\n",
       "  <tbody>\n",
       "    <tr>\n",
       "      <th>0</th>\n",
       "      <td>-0.750972</td>\n",
       "      <td>-1.045218</td>\n",
       "      <td>-0.056416</td>\n",
       "      <td>0.804890</td>\n",
       "      <td>-0.303378</td>\n",
       "      <td>1.285741</td>\n",
       "      <td>1.429871</td>\n",
       "      <td>-0.055511</td>\n",
       "      <td>-0.494701</td>\n",
       "      <td>0.000000</td>\n",
       "      <td>...</td>\n",
       "      <td>1.637641e-16</td>\n",
       "      <td>-4.890471e-16</td>\n",
       "      <td>-4.284963e-16</td>\n",
       "      <td>-4.709754e-16</td>\n",
       "      <td>2.042688e-15</td>\n",
       "      <td>-3.458487e-16</td>\n",
       "      <td>3.116720e-15</td>\n",
       "      <td>-1.420953e-16</td>\n",
       "      <td>3.216984e-16</td>\n",
       "      <td>6.346104e-16</td>\n",
       "    </tr>\n",
       "    <tr>\n",
       "      <th>1</th>\n",
       "      <td>-1.742724</td>\n",
       "      <td>0.956738</td>\n",
       "      <td>-1.570358</td>\n",
       "      <td>1.487601</td>\n",
       "      <td>-1.059731</td>\n",
       "      <td>1.285741</td>\n",
       "      <td>0.757254</td>\n",
       "      <td>1.422415</td>\n",
       "      <td>-0.494701</td>\n",
       "      <td>1.146266</td>\n",
       "      <td>...</td>\n",
       "      <td>4.437471e-01</td>\n",
       "      <td>1.527612e+00</td>\n",
       "      <td>5.971822e-01</td>\n",
       "      <td>-1.767775e-01</td>\n",
       "      <td>-1.349507e-01</td>\n",
       "      <td>7.234631e-01</td>\n",
       "      <td>1.218829e+00</td>\n",
       "      <td>-5.727990e-01</td>\n",
       "      <td>1.258937e+00</td>\n",
       "      <td>-1.338297e+00</td>\n",
       "    </tr>\n",
       "    <tr>\n",
       "      <th>2</th>\n",
       "      <td>0.240781</td>\n",
       "      <td>0.956738</td>\n",
       "      <td>-1.570358</td>\n",
       "      <td>0.804890</td>\n",
       "      <td>-1.816084</td>\n",
       "      <td>-0.675554</td>\n",
       "      <td>0.084637</td>\n",
       "      <td>1.422415</td>\n",
       "      <td>2.021423</td>\n",
       "      <td>1.146266</td>\n",
       "      <td>...</td>\n",
       "      <td>-1.031309e+00</td>\n",
       "      <td>4.263757e-01</td>\n",
       "      <td>5.971822e-01</td>\n",
       "      <td>-1.767775e-01</td>\n",
       "      <td>-1.349507e-01</td>\n",
       "      <td>-8.341011e-01</td>\n",
       "      <td>1.218829e+00</td>\n",
       "      <td>1.986963e+00</td>\n",
       "      <td>-9.142640e-01</td>\n",
       "      <td>8.052265e-01</td>\n",
       "    </tr>\n",
       "    <tr>\n",
       "      <th>3</th>\n",
       "      <td>1.232533</td>\n",
       "      <td>0.956738</td>\n",
       "      <td>0.700556</td>\n",
       "      <td>-0.560532</td>\n",
       "      <td>1.209329</td>\n",
       "      <td>-0.675554</td>\n",
       "      <td>-1.260597</td>\n",
       "      <td>-0.794475</td>\n",
       "      <td>-0.494701</td>\n",
       "      <td>-0.269102</td>\n",
       "      <td>...</td>\n",
       "      <td>-1.031309e+00</td>\n",
       "      <td>-6.748605e-01</td>\n",
       "      <td>5.971822e-01</td>\n",
       "      <td>-1.237320e+00</td>\n",
       "      <td>-1.054896e+00</td>\n",
       "      <td>-5.531897e-02</td>\n",
       "      <td>-2.433020e-01</td>\n",
       "      <td>-5.727990e-01</td>\n",
       "      <td>-1.638664e+00</td>\n",
       "      <td>-6.237891e-01</td>\n",
       "    </tr>\n",
       "    <tr>\n",
       "      <th>4</th>\n",
       "      <td>0.240781</td>\n",
       "      <td>-1.045218</td>\n",
       "      <td>0.700556</td>\n",
       "      <td>0.122179</td>\n",
       "      <td>0.452976</td>\n",
       "      <td>-1.329319</td>\n",
       "      <td>0.084637</td>\n",
       "      <td>-0.794475</td>\n",
       "      <td>-0.494701</td>\n",
       "      <td>1.146266</td>\n",
       "      <td>...</td>\n",
       "      <td>4.437471e-01</td>\n",
       "      <td>-6.748605e-01</td>\n",
       "      <td>-3.677058e-01</td>\n",
       "      <td>8.837647e-01</td>\n",
       "      <td>3.250218e-01</td>\n",
       "      <td>1.502245e+00</td>\n",
       "      <td>-2.433020e-01</td>\n",
       "      <td>-5.727990e-01</td>\n",
       "      <td>5.345367e-01</td>\n",
       "      <td>9.071870e-02</td>\n",
       "    </tr>\n",
       "  </tbody>\n",
       "</table>\n",
       "<p>5 rows × 64 columns</p>\n",
       "</div>"
      ],
      "text/plain": [
       "   ALTERSKATEGORIE_GROB  ANREDE_KZ  FINANZ_MINIMALIST  FINANZ_SPARER  \\\n",
       "0             -0.750972  -1.045218          -0.056416       0.804890   \n",
       "1             -1.742724   0.956738          -1.570358       1.487601   \n",
       "2              0.240781   0.956738          -1.570358       0.804890   \n",
       "3              1.232533   0.956738           0.700556      -0.560532   \n",
       "4              0.240781  -1.045218           0.700556       0.122179   \n",
       "\n",
       "   FINANZ_VORSORGER  FINANZ_ANLEGER  FINANZ_UNAUFFAELLIGER  FINANZ_HAUSBAUER  \\\n",
       "0         -0.303378        1.285741               1.429871         -0.055511   \n",
       "1         -1.059731        1.285741               0.757254          1.422415   \n",
       "2         -1.816084       -0.675554               0.084637          1.422415   \n",
       "3          1.209329       -0.675554              -1.260597         -0.794475   \n",
       "4          0.452976       -1.329319               0.084637         -0.794475   \n",
       "\n",
       "   GREEN_AVANTGARDE  HEALTH_TYP          ...             PLZ8_ANTG4  \\\n",
       "0         -0.494701    0.000000          ...           1.637641e-16   \n",
       "1         -0.494701    1.146266          ...           4.437471e-01   \n",
       "2          2.021423    1.146266          ...          -1.031309e+00   \n",
       "3         -0.494701   -0.269102          ...          -1.031309e+00   \n",
       "4         -0.494701    1.146266          ...           4.437471e-01   \n",
       "\n",
       "       PLZ8_HHZ      PLZ8_GBZ        ARBEIT   ORTSGR_KLS9      RELAT_AB  \\\n",
       "0 -4.890471e-16 -4.284963e-16 -4.709754e-16  2.042688e-15 -3.458487e-16   \n",
       "1  1.527612e+00  5.971822e-01 -1.767775e-01 -1.349507e-01  7.234631e-01   \n",
       "2  4.263757e-01  5.971822e-01 -1.767775e-01 -1.349507e-01 -8.341011e-01   \n",
       "3 -6.748605e-01  5.971822e-01 -1.237320e+00 -1.054896e+00 -5.531897e-02   \n",
       "4 -6.748605e-01 -3.677058e-01  8.837647e-01  3.250218e-01  1.502245e+00   \n",
       "\n",
       "         DECADE      MOVEMENT  CAMEO_INTL_2015_TENS  CAMEO_INTL_2015_ONES  \n",
       "0  3.116720e-15 -1.420953e-16          3.216984e-16          6.346104e-16  \n",
       "1  1.218829e+00 -5.727990e-01          1.258937e+00         -1.338297e+00  \n",
       "2  1.218829e+00  1.986963e+00         -9.142640e-01          8.052265e-01  \n",
       "3 -2.433020e-01 -5.727990e-01         -1.638664e+00         -6.237891e-01  \n",
       "4 -2.433020e-01 -5.727990e-01          5.345367e-01          9.071870e-02  \n",
       "\n",
       "[5 rows x 64 columns]"
      ]
     },
     "execution_count": 245,
     "metadata": {},
     "output_type": "execute_result"
    }
   ],
   "source": [
    "# Apply feature scaling to the general population demographics data.\n",
    "from sklearn.preprocessing import StandardScaler\n",
    "\n",
    "scaler = StandardScaler()\n",
    "azdias_scaled = pd.DataFrame(scaler.fit_transform(azdias_imp), columns=azdias_imp.columns)\n",
    "azdias_scaled.head()"
   ]
  },
  {
   "cell_type": "markdown",
   "metadata": {},
   "source": [
    "### Discussion 2.1: Apply Feature Scaling\n",
    "\n",
    "To apply feature scaling, I needed to deal with missing data first. Our data contained a lot of missing data so I imputed the data by replacing the missing data with the mean for the column. If there were fewer rows with missing data, I might have just chosen to delete them since it's easier than imputing. After imputing, I was able to correctly scale the data so that the values were standardized."
   ]
  },
  {
   "cell_type": "markdown",
   "metadata": {},
   "source": [
    "### Step 2.2: Perform Dimensionality Reduction\n",
    "\n",
    "On your scaled data, you are now ready to apply dimensionality reduction techniques.\n",
    "\n",
    "- Use sklearn's [PCA](http://scikit-learn.org/stable/modules/generated/sklearn.decomposition.PCA.html) class to apply principal component analysis on the data, thus finding the vectors of maximal variance in the data. To start, you should not set any parameters (so all components are computed) or set a number of components that is at least half the number of features (so there's enough features to see the general trend in variability).\n",
    "- Check out the ratio of variance explained by each principal component as well as the cumulative variance explained. Try plotting the cumulative or sequential values using matplotlib's [`plot()`](https://matplotlib.org/api/_as_gen/matplotlib.pyplot.plot.html) function. Based on what you find, select a value for the number of transformed features you'll retain for the clustering part of the project.\n",
    "- Once you've made a choice for the number of components to keep, make sure you re-fit a PCA instance to perform the decided-on transformation."
   ]
  },
  {
   "cell_type": "code",
   "execution_count": 246,
   "metadata": {},
   "outputs": [
    {
     "data": {
      "text/plain": [
       "PCA(copy=True, iterated_power='auto', n_components=None, random_state=None,\n",
       "  svd_solver='auto', tol=0.0, whiten=False)"
      ]
     },
     "execution_count": 246,
     "metadata": {},
     "output_type": "execute_result"
    }
   ],
   "source": [
    "# Apply PCA to the data.\n",
    "from sklearn.decomposition import PCA\n",
    "\n",
    "pca = PCA()\n",
    "azdias_pca = pca.fit(azdias_scaled)\n",
    "azdias_pca\n"
   ]
  },
  {
   "cell_type": "code",
   "execution_count": 247,
   "metadata": {},
   "outputs": [
    {
     "data": {
      "image/png": "[encoded data removed]",
      "text/plain": [
       "<matplotlib.figure.Figure at 0x7f432307ecc0>"
      ]
     },
     "metadata": {
      "needs_background": "light"
     },
     "output_type": "display_data"
    }
   ],
   "source": [
    "# Investigate the variance accounted for by each principal component.\n",
    "# Generate the explained variance ratio for each component\n",
    "explained_variance_ratio = pca.explained_variance_ratio_\n",
    "\n",
    "# Generate cumulative explained variance\n",
    "cumulative_explained_variance = np.cumsum(explained_variance_ratio)\n",
    "\n",
    "# Plot the explained variance ratio for each component\n",
    "plt.figure(figsize=(10, 5))\n",
    "\n",
    "plt.subplot(1, 2, 1)\n",
    "plt.bar(range(len(explained_variance_ratio)), explained_variance_ratio)\n",
    "plt.xlabel('Principal Component')\n",
    "plt.ylabel('Explained Variance Ratio')\n",
    "plt.title('Explained Variance Ratio per Principal Component')\n",
    "\n",
    "plt.subplot(1, 2, 2)\n",
    "plt.plot(cumulative_explained_variance)\n",
    "plt.xlabel('Number of Components')\n",
    "plt.ylabel('Cumulative Explained Variance')\n",
    "plt.title('Cumulative Explained Variance')\n",
    "\n",
    "plt.tight_layout()\n",
    "plt.show()\n"
   ]
  },
  {
   "cell_type": "code",
   "execution_count": 267,
   "metadata": {},
   "outputs": [
    {
     "data": {
      "text/plain": [
       "0.93800057960666416"
      ]
     },
     "execution_count": 267,
     "metadata": {},
     "output_type": "execute_result"
    }
   ],
   "source": [
    "# Re-apply PCA to the data while selecting for number of components to retain.\n",
    "pca = PCA(n_components = 40 )\n",
    "azdias_pca = pca.fit_transform(azdias_scaled)\n",
    "sum(pca.explained_variance_ratio_)\n"
   ]
  },
  {
   "cell_type": "markdown",
   "metadata": {},
   "source": [
    "### Discussion 2.2: Perform Dimensionality Reduction\n",
    "Once I scaled the data, we performed PCA and charted it to get an idea of which components contained the most relevant data to keep. We started off with 64 components, but decided that there were diminishing returns after 40 components. I further confirmed our analysis by summing the explained_variance_ratio_. This showed that 40 components had an explained variance of about 94%. \n"
   ]
  },
  {
   "cell_type": "markdown",
   "metadata": {},
   "source": [
    "### Step 2.3: Interpret Principal Components\n",
    "\n",
    "Now that we have our transformed principal components, it's a nice idea to check out the weight of each variable on the first few components to see if they can be interpreted in some fashion.\n",
    "\n",
    "As a reminder, each principal component is a unit vector that points in the direction of highest variance (after accounting for the variance captured by earlier principal components). The further a weight is from zero, the more the principal component is in the direction of the corresponding feature. If two features have large weights of the same sign (both positive or both negative), then increases in one tend expect to be associated with increases in the other. To contrast, features with different signs can be expected to show a negative correlation: increases in one variable should result in a decrease in the other.\n",
    "\n",
    "- To investigate the features, you should map each weight to their corresponding feature name, then sort the features according to weight. The most interesting features for each principal component, then, will be those at the beginning and end of the sorted list. Use the data dictionary document to help you understand these most prominent features, their relationships, and what a positive or negative value on the principal component might indicate.\n",
    "- You should investigate and interpret feature associations from the first three principal components in this substep. To help facilitate this, you should write a function that you can call at any time to print the sorted list of feature weights, for the *i*-th principal component. This might come in handy in the next step of the project, when you interpret the tendencies of the discovered clusters."
   ]
  },
  {
   "cell_type": "code",
   "execution_count": 249,
   "metadata": {},
   "outputs": [],
   "source": [
    "# Map weights for the first principal component to corresponding feature names\n",
    "# and then print the linked values, sorted by weight.\n",
    "# HINT: Try defining a function here or in a new cell that you can reuse in the\n",
    "# other cells.\n",
    "\n",
    "def component_weights(df, component_index):\n",
    "    pca = PCA(n_components=40)\n",
    "    azdias_pca = pca.fit_transform(df)\n",
    "\n",
    "    # Get the feature weights for the first principal component\n",
    "    component = pca.components_[component_index]\n",
    "\n",
    "    # Create a dataframe that contains the weights and corresponding features\n",
    "    weights_df = pd.DataFrame({'weight': component, 'feature': azdias_scaled.columns})\n",
    "\n",
    "    # Sort the dataframe by the absolute value of the weight (magnitude of contribution to principal component)\n",
    "    weights_df = weights_df.sort_values(by='weight', ascending=False)\n",
    "    \n",
    "    return weights_df\n"
   ]
  },
  {
   "cell_type": "code",
   "execution_count": 253,
   "metadata": {},
   "outputs": [
    {
     "name": "stdout",
     "output_type": "stream",
     "text": [
      "      weight     feature\n",
      "53  0.232836  PLZ8_ANTG3\n",
      "54  0.225919  PLZ8_ANTG4\n",
      "      weight     feature\n",
      "51 -0.232227  PLZ8_ANTG1\n",
      "47 -0.247179  MOBI_REGIO\n"
     ]
    }
   ],
   "source": [
    "weights_df1 = component_weights(azdias_scaled, 0)\n",
    "# Print the sorted dataframe\n",
    "print(weights_df1.head(2)) # Top weights\n",
    "print(weights_df1.tail(2)) # Bottom Weights"
   ]
  },
  {
   "cell_type": "code",
   "execution_count": 254,
   "metadata": {},
   "outputs": [
    {
     "name": "stdout",
     "output_type": "stream",
     "text": [
      "     weight               feature\n",
      "0  0.270816  ALTERSKATEGORIE_GROB\n",
      "4  0.250793      FINANZ_VORSORGER\n",
      "      weight        feature\n",
      "3  -0.257214  FINANZ_SPARER\n",
      "60 -0.264289         DECADE\n"
     ]
    }
   ],
   "source": [
    "# Map weights for the second principal component to corresponding feature names\n",
    "# and then print the linked values, sorted by weight.\n",
    "weights_df2 = component_weights(azdias_scaled, 1)\n",
    "# Print the sorted dataframe\n",
    "print(weights_df2.head(2)) # Top weights\n",
    "print(weights_df2.tail(2)) # Bottom Weights\n"
   ]
  },
  {
   "cell_type": "code",
   "execution_count": 255,
   "metadata": {},
   "outputs": [
    {
     "name": "stdout",
     "output_type": "stream",
     "text": [
      "      weight     feature\n",
      "15  0.353706  SEMIO_VERT\n",
      "11  0.290919   SEMIO_SOZ\n",
      "      weight     feature\n",
      "22 -0.360270  SEMIO_KAEM\n",
      "1  -0.362735   ANREDE_KZ\n"
     ]
    }
   ],
   "source": [
    "# Map weights for the third principal component to corresponding feature names\n",
    "# and then print the linked values, sorted by weight.\n",
    "weights_df3 = component_weights(azdias_scaled, 2)\n",
    "# Print the sorted dataframe\n",
    "print(weights_df3.head(2)) # Top weights\n",
    "print(weights_df3.tail(2)) # Bottom Weights\n"
   ]
  },
  {
   "cell_type": "markdown",
   "metadata": {},
   "source": [
    "### Discussion 2.3: Interpret Principal Components\n",
    "\n",
    "\n",
    "### Cluster 1\n",
    "**Positive Weights:**\n",
    "\n",
    "| Weight | Feature | Definition |\n",
    "|--------|---------|------------|\n",
    "| 0.232836 | PLZ8_ANTG3 | Number of 6-10 family houses in the PLZ8 region |\n",
    "| 0.225919 | PLZ8_ANTG4 | Number of 10+ family houses in the PLZ8 region |\n",
    "\n",
    "\n",
    "**Negative Weights:**\n",
    "\n",
    "| Weight | Feature | Definition |\n",
    "|--------|---------|------------|\n",
    "| -0.232227 | KBA05_ANTG1 | Number of 1-2 family houses in the microcell |\n",
    "| -0.247179 | MOBI_REGIO | Movement patterns |\n",
    "\n",
    "\n",
    "In cluster 1, the top positively weighted features are related to higher housing density while the negatively weighted features are the opposite and related to less housing density regions. The make sense in being having an opposing relationship. \n",
    "\n",
    "### Cluster 2\n",
    "**Positive Weights:**\n",
    "\n",
    "| Weight | Feature | Definition |\n",
    "|--------|---------|------------|\n",
    "| 0.270816 | ALTERSKATEGORIE_GROB | Estimated age based on given name analysis |\n",
    "| 0.250793 | FINANZ_VORSORGER | Financial typology, for each dimension: (financial interests-Be Prepared) |\n",
    "\n",
    "\n",
    "**Negative Weights:**\n",
    "\n",
    "| Weight | Feature | Definition |\n",
    "|--------|---------|------------|\n",
    "| -0.257214 | FINANZ_SPARER | Financial typology, for each dimension: (money-saver) |\n",
    "| -0.264289 | DECADE | Decade born |\n",
    "\n",
    "In cluster 2, the top weighted features were estimated age and a financial interest in being prepared. The negative weights has a financial interest in saving money and decade born. It's harder to get a real read on this in comparison to the other two clusters. Being financially prepared doesn't seem too different to being a money savior and other than age, there isn't a clear relation between the positive and negative weights. \n",
    "\n",
    "### Cluster 3\n",
    "**Positive Weights:**\n",
    "\n",
    "| Weight | Feature | Definition |\n",
    "|--------|---------|------------|\n",
    "| 0.353706 | SEMIO_VERT | Personality typology, for each dimension: (dreamful) |\n",
    "| 0.290919 | SEMIO_SOZ | Personality typology, for each dimension: (socially minded) |\n",
    "\n",
    "\n",
    "**Negative Weights:**\n",
    "\n",
    "| Weight | Feature | Definition |\n",
    "|--------|---------|------------|\n",
    "| -0.360270 | SEMIO_KAEM | Personality typology, for each dimension: (combative attitude) |\n",
    "| -0.362735 | ANREDE_KZ | gender |\n",
    "\n",
    "\n",
    "In cluster 3, the weights were based around personality typology. This is also the most conclusive cluster. The positively weighted traits were dreamful and socially minded. The negative weights contrast this with more negatively minded personality traits like combative attitude."
   ]
  },
  {
   "cell_type": "markdown",
   "metadata": {},
   "source": [
    "## Step 3: Clustering\n",
    "\n",
    "### Step 3.1: Apply Clustering to General Population\n",
    "\n",
    "You've assessed and cleaned the demographics data, then scaled and transformed them. Now, it's time to see how the data clusters in the principal components space. In this substep, you will apply k-means clustering to the dataset and use the average within-cluster distances from each point to their assigned cluster's centroid to decide on a number of clusters to keep.\n",
    "\n",
    "- Use sklearn's [KMeans](http://scikit-learn.org/stable/modules/generated/sklearn.cluster.KMeans.html#sklearn.cluster.KMeans) class to perform k-means clustering on the PCA-transformed data.\n",
    "- Then, compute the average difference from each point to its assigned cluster's center. **Hint**: The KMeans object's `.score()` method might be useful here, but note that in sklearn, scores tend to be defined so that larger is better. Try applying it to a small, toy dataset, or use an internet search to help your understanding.\n",
    "- Perform the above two steps for a number of different cluster counts. You can then see how the average distance decreases with an increasing number of clusters. However, each additional cluster provides a smaller net benefit. Use this fact to select a final number of clusters in which to group the data. **Warning**: because of the large size of the dataset, it can take a long time for the algorithm to resolve. The more clusters to fit, the longer the algorithm will take. You should test for cluster counts through at least 10 clusters to get the full picture, but you shouldn't need to test for a number of clusters above about 30.\n",
    "- Once you've selected a final number of clusters to use, re-fit a KMeans instance to perform the clustering operation. Make sure that you also obtain the cluster assignments for the general demographics data, since you'll be using them in the final Step 3.3."
   ]
  },
  {
   "cell_type": "code",
   "execution_count": 256,
   "metadata": {},
   "outputs": [],
   "source": [
    "from sklearn.cluster import KMeans\n",
    "# Range of cluster numbers to try\n",
    "cluster_range = [3, 6, 9, 12, 15, 18, 21, 24]\n",
    "\n",
    "# List to save the models and their scores\n",
    "kmeans_models = []\n",
    "scores = []\n",
    "\n",
    "# Over a number of different cluster counts...\n",
    "for n_clusters in cluster_range:\n",
    "\n",
    "    # run k-means clustering on the data and...\n",
    "    kmeans = KMeans(n_clusters=n_clusters)\n",
    "    model = kmeans.fit(azdias_scaled)    \n",
    "    \n",
    "    # compute the average within-cluster distances.\n",
    "    # Save the model and its score\n",
    "    kmeans_models.append(model)\n",
    "    # the .score() function returns negative value, so it's negated to get positive distance\n",
    "    scores.append(-model.score(azdias_scaled))    \n",
    "    \n",
    "    "
   ]
  },
  {
   "cell_type": "code",
   "execution_count": 268,
   "metadata": {},
   "outputs": [
    {
     "data": {
      "image/png": "[encoded data removed]",
      "text/plain": [
       "<matplotlib.figure.Figure at 0x7f4286dffdd8>"
      ]
     },
     "metadata": {
      "needs_background": "light"
     },
     "output_type": "display_data"
    }
   ],
   "source": [
    "# Investigate the change in within-cluster distance across number of clusters.\n",
    "# HINT: Use matplotlib's plot function to visualize this relationship.\n",
    "plt.plot(cluster_range, scores, marker='o')\n",
    "plt.xlabel('Number of clusters')\n",
    "plt.ylabel('Average distance to centroid')\n",
    "plt.title('KMeans clustering: number of clusters vs average distance to centroid')\n",
    "plt.show()\n"
   ]
  },
  {
   "cell_type": "code",
   "execution_count": 269,
   "metadata": {},
   "outputs": [],
   "source": [
    "# Re-fit the k-means model with the selected number of clusters and obtain\n",
    "# cluster predictions for the general population demographics data.\n",
    "kmeans = KMeans(15)\n",
    "model = kmeans.fit(azdias_pca) \n",
    "azdias_predicted = model.predict(azdias_pca)\n"
   ]
  },
  {
   "cell_type": "markdown",
   "metadata": {},
   "source": [
    "### Discussion 3.1: Apply Clustering to General Population\n",
    "\n",
    "Utilizing the elbow method, I tried to ascertain the ideal number of clusters to evaluate. After 15 clusters, the average distance from the centeroid lessened about the same. For this reason I chose 15 clusters as the ideal amount to evaluate. \n"
   ]
  },
  {
   "cell_type": "markdown",
   "metadata": {},
   "source": [
    "### Step 3.2: Apply All Steps to the Customer Data\n",
    "\n",
    "Now that you have clusters and cluster centers for the general population, it's time to see how the customer data maps on to those clusters. Take care to not confuse this for re-fitting all of the models to the customer data. Instead, you're going to use the fits from the general population to clean, transform, and cluster the customer data. In the last step of the project, you will interpret how the general population fits apply to the customer data.\n",
    "\n",
    "- Don't forget when loading in the customers data, that it is semicolon (`;`) delimited.\n",
    "- Apply the same feature wrangling, selection, and engineering steps to the customer demographics using the `clean_data()` function you created earlier. (You can assume that the customer demographics data has similar meaning behind missing data patterns as the general demographics data.)\n",
    "- Use the sklearn objects from the general demographics data, and apply their transformations to the customers data. That is, you should not be using a `.fit()` or `.fit_transform()` method to re-fit the old objects, nor should you be creating new sklearn objects! Carry the data through the feature scaling, PCA, and clustering steps, obtaining cluster assignments for all of the data in the customer demographics data."
   ]
  },
  {
   "cell_type": "code",
   "execution_count": 270,
   "metadata": {},
   "outputs": [],
   "source": [
    "# Load in the customer demographics data.\n",
    "customers = pd.read_csv('Udacity_CUSTOMERS_Subset.csv', delimiter=';')"
   ]
  },
  {
   "cell_type": "code",
   "execution_count": 271,
   "metadata": {},
   "outputs": [
    {
     "data": {
      "text/plain": [
       "(191652, 85)"
      ]
     },
     "execution_count": 271,
     "metadata": {},
     "output_type": "execute_result"
    }
   ],
   "source": [
    "customers.shape"
   ]
  },
  {
   "cell_type": "code",
   "execution_count": 277,
   "metadata": {
    "scrolled": true
   },
   "outputs": [
    {
     "name": "stdout",
     "output_type": "stream",
     "text": [
      "If this is all you see, you passed the tests\n"
     ]
    }
   ],
   "source": [
    "# Apply preprocessing, feature transformation, and clustering from the general\n",
    "# demographics onto the customer data, obtaining cluster predictions for the\n",
    "# customer demographics data.\n",
    "customer_clean = clean_data(customers)\n",
    "\n",
    "customer_clean_imputed = imputer.transform(customer_clean)\n",
    "customers_scaled = scaler.transform(customer_clean_imputed)\n",
    "customers_pca = pca.transform(customers_scaled)  # apply the same pca transformation\n",
    "customers_clusters = model.predict(customers_pca)  \n",
    "\n"
   ]
  },
  {
   "cell_type": "code",
   "execution_count": 266,
   "metadata": {
    "scrolled": true
   },
   "outputs": [
    {
     "name": "stdout",
     "output_type": "stream",
     "text": [
      "azdias_clean shape: (891221, 64)\n",
      "azdias_imp shape: (891221, 64)\n",
      "azdias_scaled shape: (891221, 64)\n",
      "azdias_pca shape: (891221, 40)\n",
      "customer_clean shape: (191652, 64)\n",
      "customer_clean_imputed shape: (191652, 64)\n",
      "customers_scaled shape: (191652, 64)\n",
      "customers_pca shape: (191652, 40)\n"
     ]
    }
   ],
   "source": [
    "print(\"azdias_clean shape:\", azdias_clean.shape)\n",
    "print(\"azdias_imp shape:\", azdias_imp.shape)\n",
    "print(\"azdias_scaled shape:\", azdias_scaled.shape)\n",
    "print(\"azdias_pca shape:\", azdias_pca.shape)\n",
    "\n",
    "print(\"customer_clean shape:\", customer_clean.shape)\n",
    "print(\"customer_clean_imputed shape:\", customer_clean_imputed.shape)\n",
    "print(\"customers_scaled shape:\", customers_scaled.shape)\n",
    "print(\"customers_pca shape:\", customers_pca.shape)\n"
   ]
  },
  {
   "cell_type": "code",
   "execution_count": 276,
   "metadata": {},
   "outputs": [
    {
     "name": "stdout",
     "output_type": "stream",
     "text": [
      "40\n",
      "15\n",
      "(15, 40)\n",
      "(191652, 40)\n"
     ]
    }
   ],
   "source": [
    "print(pca.n_components_)\n",
    "print(model.n_clusters)\n",
    "print(model.cluster_centers_.shape)\n",
    "print(customers_pca.shape)\n",
    "\n"
   ]
  },
  {
   "cell_type": "markdown",
   "metadata": {},
   "source": [
    "### Step 3.3: Compare Customer Data to Demographics Data\n",
    "\n",
    "At this point, you have clustered data based on demographics of the general population of Germany, and seen how the customer data for a mail-order sales company maps onto those demographic clusters. In this final substep, you will compare the two cluster distributions to see where the strongest customer base for the company is.\n",
    "\n",
    "Consider the proportion of persons in each cluster for the general population, and the proportions for the customers. If we think the company's customer base to be universal, then the cluster assignment proportions should be fairly similar between the two. If there are only particular segments of the population that are interested in the company's products, then we should see a mismatch from one to the other. If there is a higher proportion of persons in a cluster for the customer data compared to the general population (e.g. 5% of persons are assigned to a cluster for the general population, but 15% of the customer data is closest to that cluster's centroid) then that suggests the people in that cluster to be a target audience for the company. On the other hand, the proportion of the data in a cluster being larger in the general population than the customer data (e.g. only 2% of customers closest to a population centroid that captures 6% of the data) suggests that group of persons to be outside of the target demographics.\n",
    "\n",
    "Take a look at the following points in this step:\n",
    "\n",
    "- Compute the proportion of data points in each cluster for the general population and the customer data. Visualizations will be useful here: both for the individual dataset proportions, but also to visualize the ratios in cluster representation between groups. Seaborn's [`countplot()`](https://seaborn.pydata.org/generated/seaborn.countplot.html) or [`barplot()`](https://seaborn.pydata.org/generated/seaborn.barplot.html) function could be handy.\n",
    "  - Recall the analysis you performed in step 1.1.3 of the project, where you separated out certain data points from the dataset if they had more than a specified threshold of missing values. If you found that this group was qualitatively different from the main bulk of the data, you should treat this as an additional data cluster in this analysis. Make sure that you account for the number of data points in this subset, for both the general population and customer datasets, when making your computations!\n",
    "- Which cluster or clusters are overrepresented in the customer dataset compared to the general population? Select at least one such cluster and infer what kind of people might be represented by that cluster. Use the principal component interpretations from step 2.3 or look at additional components to help you make this inference. Alternatively, you can use the `.inverse_transform()` method of the PCA and StandardScaler objects to transform centroids back to the original data space and interpret the retrieved values directly.\n",
    "- Perform a similar investigation for the underrepresented clusters. Which cluster or clusters are underrepresented in the customer dataset compared to the general population, and what kinds of people are typified by these clusters?"
   ]
  },
  {
   "cell_type": "code",
   "execution_count": 279,
   "metadata": {},
   "outputs": [
    {
     "data": {
      "image/png": "[encoded data removed]",
      "text/plain": [
       "<matplotlib.figure.Figure at 0x7f432b570da0>"
      ]
     },
     "metadata": {
      "needs_background": "light"
     },
     "output_type": "display_data"
    }
   ],
   "source": [
    "# Compute the proportion of data points in each cluster for the general population\n",
    "azdias_proportions = pd.Series(azdias_predicted).value_counts(normalize=True).sort_index()\n",
    "\n",
    "# Compute the proportion of data points in each cluster for the customer data\n",
    "customer_proportions = pd.Series(customers_clusters).value_counts(normalize=True).sort_index()\n",
    "\n",
    "# Create dataframe for proportions\n",
    "df_proportions = pd.DataFrame({'General': azdias_proportions, 'Customer': customer_proportions})\n",
    "\n",
    "# calculate appropriate widths for bars\n",
    "width = 0.35\n",
    "\n",
    "fig, ax = plt.subplots(figsize=(12,6))\n",
    "\n",
    "# create array for x-values, here df_proportions.index.values needs to be converted to array for the bar plot\n",
    "x = np.arange(len(df_proportions.index.values))\n",
    "\n",
    "# create bars for 'General' and 'Customer' in the same plot, adjust position by width/2\n",
    "bar1 = ax.bar(x - width/2, df_proportions['General'], width, label='General', color='blue', alpha=0.5)\n",
    "bar2 = ax.bar(x + width/2, df_proportions['Customer'], width, label='Customer', color='red', alpha=0.5)\n",
    "\n",
    "# add labels, title, legend etc. \n",
    "ax.set_xlabel('Clusters')\n",
    "ax.set_ylabel('Proportions')\n",
    "ax.set_title('Proportions of Each Cluster for General vs Customer Populations')\n",
    "ax.legend()\n",
    "\n",
    "plt.show()\n"
   ]
  },
  {
   "cell_type": "code",
   "execution_count": 280,
   "metadata": {},
   "outputs": [],
   "source": [
    "# What kinds of people are part of a cluster that is overrepresented in the\n",
    "# customer data compared to the general population?\n",
    "\n",
    "# get cluster centroids from the kmeans model\n",
    "centroids = model.cluster_centers_\n",
    "\n",
    "centroids_pca_inv = pca.inverse_transform(centroids)\n",
    "centroids_orig = scaler.inverse_transform(centroids_pca_inv)\n",
    "\n",
    "df_centroids = pd.DataFrame(centroids_orig, columns=customer_clean.columns)\n",
    "\n",
    "# Creating function to easily chart top clusters\n",
    "def cluster_chart (cluster, bars):\n",
    "    # Get top features for the given cluster\n",
    "    top_features = df_centroids.iloc[cluster].sort_values(ascending=False)[:bars]\n",
    "\n",
    "    # Generate the bar plot\n",
    "    ax = top_features.plot(kind='bar')\n",
    "    \n",
    "    # Set title using f-string formatting\n",
    "    plt.title(f\"Top {bars} Features for Cluster {cluster}\")\n",
    "    plt.ylabel('Feature Value')\n",
    "\n",
    "    # Add the values on top of each bar\n",
    "    for i, v in enumerate(top_features):\n",
    "        ax.text(i, v + 0.01, str(round(v, 2)), ha='center')\n",
    "\n",
    "    plt.show() \n"
   ]
  },
  {
   "cell_type": "code",
   "execution_count": 283,
   "metadata": {
    "scrolled": true
   },
   "outputs": [
    {
     "data": {
      "image/png": "[encoded data removed]",
      "text/plain": [
       "<matplotlib.figure.Figure at 0x7f432117a588>"
      ]
     },
     "metadata": {
      "needs_background": "light"
     },
     "output_type": "display_data"
    }
   ],
   "source": [
    "# Plot the top 5 feature values for cluster 2\n",
    "cluster_chart(2, 5)\n",
    "\n",
    "\n"
   ]
  },
  {
   "cell_type": "code",
   "execution_count": 284,
   "metadata": {},
   "outputs": [
    {
     "data": {
      "image/png": "[encoded data removed]",
      "text/plain": [
       "<matplotlib.figure.Figure at 0x7f42c85b1c88>"
      ]
     },
     "metadata": {
      "needs_background": "light"
     },
     "output_type": "display_data"
    }
   ],
   "source": [
    "# Plot the top 5 feature values for cluster 13\n",
    "cluster_chart(13, 5)\n"
   ]
  },
  {
   "cell_type": "code",
   "execution_count": 285,
   "metadata": {
    "scrolled": false
   },
   "outputs": [
    {
     "data": {
      "image/png": "[encoded data removed]",
      "text/plain": [
       "<matplotlib.figure.Figure at 0x7f43211beb38>"
      ]
     },
     "metadata": {
      "needs_background": "light"
     },
     "output_type": "display_data"
    }
   ],
   "source": [
    "# What kinds of people are part of a cluster that is underrepresented in the\n",
    "# customer data compared to the general population?\n",
    "\n",
    "# Plot the top 5 feature values for cluster 7\n",
    "cluster_chart(7, 5)\n"
   ]
  },
  {
   "cell_type": "code",
   "execution_count": 286,
   "metadata": {},
   "outputs": [
    {
     "data": {
      "image/png": "[encoded data removed]",
      "text/plain": [
       "<matplotlib.figure.Figure at 0x7f429120ccf8>"
      ]
     },
     "metadata": {
      "needs_background": "light"
     },
     "output_type": "display_data"
    }
   ],
   "source": [
    "# Plot the top 5 feature values for cluster 11\n",
    "cluster_chart(11, 5)"
   ]
  },
  {
   "cell_type": "markdown",
   "metadata": {},
   "source": [
    "### Discussion 3.3: Compare Customer Data to Demographics Data\n",
    "\n",
    "Clusters 2, 3, 9, 13 are over-represented. Cluster 2 and 13 are the most over-represented. People in these clusters are prime candidate customers.\n",
    "\n",
    "There are many under-represented clusters, but 17 and 11 are the most under-represented. People in these clusters are not prime candidate customers.\n",
    "\n",
    "Both of the counts of features in both the over and under-estimated charts looked similar except for cluster 11. DECADE was  higher in both under-represented clusters. we should may want to avoid advertising in areas with lower car density and with older residents."
   ]
  },
  {
   "cell_type": "markdown",
   "metadata": {},
   "source": [
    "> Congratulations on making it this far in the project! Before you finish, make sure to check through the entire notebook from top to bottom to make sure that your analysis follows a logical flow and all of your findings are documented in **Discussion** cells. Once you've checked over all of your work, you should export the notebook as an HTML document to submit for evaluation. You can do this from the menu, navigating to **File -> Download as -> HTML (.html)**. You will submit both that document and this notebook for your project submission."
   ]
  },
  {
   "cell_type": "code",
   "execution_count": null,
   "metadata": {},
   "outputs": [],
   "source": []
  }
 ],
 "metadata": {
  "kernelspec": {
   "display_name": "Python 3",
   "language": "python",
   "name": "python3"
  },
  "language_info": {
   "codemirror_mode": {
    "name": "ipython",
    "version": 3
   },
   "file_extension": ".py",
   "mimetype": "text/x-python",
   "name": "python",
   "nbconvert_exporter": "python",
   "pygments_lexer": "ipython3",
   "version": "3.6.3"
  }
 },
 "nbformat": 4,
 "nbformat_minor": 2
}
